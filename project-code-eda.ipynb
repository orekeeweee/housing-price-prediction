{
 "cells": [
  {
   "cell_type": "markdown",
   "metadata": {
    "nbgrader": {
     "grade": false,
     "grade_id": "cell-e0f9b2de18190d9d",
     "locked": true,
     "schema_version": 1,
     "solution": false
    }
   },
   "source": [
    "# Exploring Cook County Housing\n",
    "\n"
   ]
  },
  {
   "cell_type": "markdown",
   "metadata": {},
   "source": [
    "<hr style=\"border: 1px solid #fdb515;\" />\n",
    "<hr style=\"border: 5px solid #003262;\" />\n",
    "<br/><br/>"
   ]
  },
  {
   "cell_type": "code",
   "execution_count": 1,
   "metadata": {
    "nbgrader": {
     "grade": false,
     "grade_id": "cell-62cfd21463535cac",
     "locked": true,
     "schema_version": 1,
     "solution": false
    }
   },
   "outputs": [],
   "source": [
    "import numpy as np\n",
    "\n",
    "import pandas as pd\n",
    "\n",
    "%matplotlib inline\n",
    "import matplotlib.pyplot as plt\n",
    "import seaborn as sns\n",
    "\n",
    "import warnings\n",
    "warnings.filterwarnings(\"ignore\")\n",
    "\n",
    "import zipfile\n",
    "import os\n",
    "\n",
    "# Plot settings\n",
    "plt.rcParams['figure.figsize'] = (12, 9)\n",
    "plt.rcParams['font.size'] = 12"
   ]
  },
  {
   "cell_type": "markdown",
   "metadata": {},
   "source": [
    "<br/><br/>\n",
    "<hr style=\"border: 5px solid #003262;\" />\n",
    "<hr style=\"border: 1px solid #fdb515;\" />\n",
    "\n",
    "# The Data\n",
    "\n",
    "The dataset consists of over 500,000 records from Cook County, Illinois, the county where Chicago is located. The dataset has 61 features in total; the 62nd is `Sale Price`, which you will predict with linear regression in the next part of this project. An explanation of each variable can be found in the included `codebook.txt` file (you can optionally open this by first clicking the `data` folder, then clicking `codebook.txt` file in the navigation pane). Some of the columns have been filtered out to ensure this assignment doesn't become overly long when dealing with data cleaning and formatting.\n",
    "\n",
    "The data are split into training and test sets with 204,792 and 68,264 observations, respectively, but we will only be working on the training set for this part of the project.\n",
    "\n",
    "Let's first extract the data from the `cook_county_data.zip`. Notice we didn't leave the `csv` files directly in the directory because they take up too much space without some prior compression. Just run the cells below: "
   ]
  },
  {
   "cell_type": "code",
   "execution_count": 2,
   "metadata": {},
   "outputs": [],
   "source": [
    "with zipfile.ZipFile('data/cook_county_data.zip') as item:\n",
    "    item.extractall()"
   ]
  },
  {
   "cell_type": "markdown",
   "metadata": {},
   "source": [
    "Let's load the initial data."
   ]
  },
  {
   "cell_type": "code",
   "execution_count": 3,
   "metadata": {
    "nbgrader": {
     "grade": false,
     "grade_id": "cell-e8fea30adc9d489b",
     "locked": true,
     "schema_version": 1,
     "solution": false
    }
   },
   "outputs": [],
   "source": [
    "initial_data = pd.read_csv(\"cook_county_train.csv\", index_col='Unnamed: 0')"
   ]
  },
  {
   "cell_type": "markdown",
   "metadata": {
    "nbgrader": {
     "grade": false,
     "grade_id": "cell-9d6d509b6e854e10",
     "locked": true,
     "schema_version": 1,
     "solution": false
    }
   },
   "source": [
    "As a good sanity check, we should at least verify that the data shape matches the description."
   ]
  },
  {
   "cell_type": "code",
   "execution_count": 4,
   "metadata": {
    "nbgrader": {
     "grade": false,
     "grade_id": "cell-c841a2de55691502",
     "locked": true,
     "schema_version": 1,
     "solution": false
    }
   },
   "outputs": [],
   "source": [
    "# 204,792 observations and 62 features in training data\n",
    "assert initial_data.shape == (204792, 62)\n",
    "# Sale Price is provided in the training data\n",
    "assert 'Sale Price' in initial_data.columns.values"
   ]
  },
  {
   "cell_type": "markdown",
   "metadata": {
    "nbgrader": {
     "grade": false,
     "grade_id": "cell-ce9acc2f62c96e59",
     "locked": true,
     "schema_version": 1,
     "solution": false
    }
   },
   "source": [
    "The next order of business is getting a feel for the variables in our data.  A more detailed description of each variable is included in `codebook.txt` (in the same directory as this notebook).  **You should take some time to familiarize yourself with the codebook before moving forward.**\n",
    "\n",
    "Let's take a quick look at all the current columns in our initial data."
   ]
  },
  {
   "cell_type": "code",
   "execution_count": 5,
   "metadata": {
    "nbgrader": {
     "grade": false,
     "grade_id": "cell-4e60a7a0cda5eecf",
     "locked": true,
     "schema_version": 1,
     "solution": false
    }
   },
   "outputs": [
    {
     "data": {
      "text/plain": [
       "array(['PIN', 'Property Class', 'Neighborhood Code', 'Land Square Feet',\n",
       "       'Town Code', 'Apartments', 'Wall Material', 'Roof Material',\n",
       "       'Basement', 'Basement Finish', 'Central Heating', 'Other Heating',\n",
       "       'Central Air', 'Fireplaces', 'Attic Type', 'Attic Finish',\n",
       "       'Design Plan', 'Cathedral Ceiling', 'Construction Quality',\n",
       "       'Site Desirability', 'Garage 1 Size', 'Garage 1 Material',\n",
       "       'Garage 1 Attachment', 'Garage 1 Area', 'Garage 2 Size',\n",
       "       'Garage 2 Material', 'Garage 2 Attachment', 'Garage 2 Area',\n",
       "       'Porch', 'Other Improvements', 'Building Square Feet',\n",
       "       'Repair Condition', 'Multi Code', 'Number of Commercial Units',\n",
       "       'Estimate (Land)', 'Estimate (Building)', 'Deed No.', 'Sale Price',\n",
       "       'Longitude', 'Latitude', 'Census Tract',\n",
       "       'Multi Property Indicator', 'Modeling Group', 'Age', 'Use',\n",
       "       \"O'Hare Noise\", 'Floodplain', 'Road Proximity', 'Sale Year',\n",
       "       'Sale Quarter', 'Sale Half-Year', 'Sale Quarter of Year',\n",
       "       'Sale Month of Year', 'Sale Half of Year', 'Most Recent Sale',\n",
       "       'Age Decade', 'Pure Market Filter', 'Garage Indicator',\n",
       "       'Neigborhood Code (mapping)', 'Town and Neighborhood',\n",
       "       'Description', 'Lot Size'], dtype=object)"
      ]
     },
     "execution_count": 5,
     "metadata": {},
     "output_type": "execute_result"
    }
   ],
   "source": [
    "initial_data.columns.values"
   ]
  },
  {
   "cell_type": "code",
   "execution_count": 6,
   "metadata": {},
   "outputs": [
    {
     "data": {
      "text/plain": [
       "'This property, sold on 09/14/2015, is a one-story houeshold located at 2950 S LYMAN ST.It has a total of 6 rooms, 3 of which are bedrooms, and 1.0 of which are bathrooms.'"
      ]
     },
     "execution_count": 6,
     "metadata": {},
     "output_type": "execute_result"
    }
   ],
   "source": [
    "initial_data['Description'][0]"
   ]
  },
  {
   "cell_type": "markdown",
   "metadata": {},
   "source": [
    "<br/><br/>\n",
    "<hr style=\"border: 1px solid #fdb515;\" />\n",
    "\n",
    "# Part 1: Contextualizing the Data\n",
    "\n",
    "Although we've already explored this dataset and its social context in Lecture 15, let's refresh our memory on the background of our dataset before diving into a full-scale analysis. "
   ]
  },
  {
   "cell_type": "markdown",
   "metadata": {
    "deletable": false,
    "editable": false
   },
   "source": [
    "<!-- BEGIN QUESTION -->\n",
    "\n",
    "<br><br>\n",
    "\n",
    "---\n",
    "\n",
    "## Question 1a\n",
    "\n",
    "Based on the columns in this dataset and the values that they take, what do you think each row represents? That is, what is the granularity of this dataset? "
   ]
  },
  {
   "cell_type": "markdown",
   "metadata": {},
   "source": [
    "Based on the column names provided, each row in this dataset represents a single property or real estate parcel. The granularity of the data is at the individual property level, containing a wide range of characteristics and information for each property."
   ]
  },
  {
   "cell_type": "markdown",
   "metadata": {
    "deletable": false,
    "editable": false
   },
   "source": [
    "<!-- END QUESTION -->\n",
    "\n",
    "<!-- BEGIN QUESTION -->\n",
    "\n",
    "<br><br>\n",
    "\n",
    "---\n",
    "## Question 1b\n",
    "Why do you think this data was collected? For what purposes? By whom?\n",
    "\n",
    "This question calls for your speculation and is looking for thoughtfulness, not correctness. "
   ]
  },
  {
   "cell_type": "markdown",
   "metadata": {},
   "source": [
    "This dataset was likely collected by a local government agency for multiple interconnected purposes. The primary goal would be property tax assessment, given the detailed property characteristics and valuation data. However, its comprehensive nature also makes it valuable for urban planning and real estate market analysis. "
   ]
  },
  {
   "cell_type": "markdown",
   "metadata": {
    "deletable": false,
    "editable": false
   },
   "source": [
    "<!-- END QUESTION -->\n",
    "\n",
    "<!-- BEGIN QUESTION -->\n",
    "\n",
    "<br><br>\n",
    "\n",
    "---\n",
    "## Question 1c\n",
    "\n",
    "Craft at least two questions about housing in Cook County that can be answered with this dataset and provide the type of analytical tool you would use to answer it (e.g. \"I would create a ___ plot of ___ and ___\" or \"I would calculate the ___ [summary statistic] for ___ and ____\"). Be sure to reference the columns that you would use and any additional datasets you would need to answer that question."
   ]
  },
  {
   "cell_type": "markdown",
   "metadata": {},
   "source": [
    "How does the sale price of properties vary based on their distance from O'Hare Airport and the level of airport noise exposure?\n",
    "\n",
    "Analytical approach: I would create a scatter plot with a color gradient, where:\n",
    "\n",
    "X-axis: \"Longitude\"\n",
    "Y-axis: \"Latitude\"\n",
    "Color scale: \"Sale Price\"\n",
    "Point size: \"O'Hare Noise\" level\n",
    "\n",
    "\n",
    "\n",
    "What is the relationship between a property's age and its repair condition, and how does this impact sale prices across different neighborhoods?\n",
    "\n",
    "Analytical approach: I would create a grouped box plot where:\n",
    "\n",
    "X-axis: \"Age Decade\"\n",
    "Y-axis: \"Sale Price\"\n",
    "Grouping: \"Repair Condition\"\n",
    "Facet: \"Neighborhood Code\""
   ]
  },
  {
   "cell_type": "markdown",
   "metadata": {
    "deletable": false,
    "editable": false
   },
   "source": [
    "<!-- END QUESTION -->\n",
    "\n",
    "<!-- BEGIN QUESTION -->\n",
    "\n",
    "<br><br>\n",
    "\n",
    "---\n",
    "## Question 1d\n",
    "\n",
    "Suppose now, in addition to the information already contained in the dataset, you also have access to several new columns containing demographic data about the owner, including race/ethnicity, gender, age, annual income, and occupation. Provide one new question about housing in Cook County that can be answered using at least one column of demographic data and at least one column of existing data and provide the type of analytical tool you would use to answer it."
   ]
  },
  {
   "cell_type": "markdown",
   "metadata": {},
   "source": [
    "How does the relationship between property value and building square footage vary across different income levels and racial/ethnic groups in Cook County?\n",
    "Analytical approach: I would create a scatter plot with multiple trend lines, where:\n",
    "\n",
    "X-axis: \"Building Square Feet\"\n",
    "Y-axis: \"Estimate (Building)\"\n",
    "Color: \"Race/Ethnicity\"\n",
    "Separate plots or facets: Income brackets derived from \"Annual Income\""
   ]
  },
  {
   "cell_type": "markdown",
   "metadata": {
    "deletable": false,
    "editable": false,
    "nbgrader": {
     "grade": false,
     "grade_id": "cell-ba0f6926b0dafefb",
     "locked": true,
     "schema_version": 1,
     "solution": false
    }
   },
   "source": [
    "<!-- END QUESTION -->\n",
    "\n",
    "<br/><br/>\n",
    "<hr style=\"border: 1px solid #fdb515;\" />\n",
    "\n",
    "# Part 2: Exploratory Data Analysis\n",
    "\n",
    "This dataset was collected by the [Cook County Assessor's Office](https://datacatalog.cookcountyil.gov/Property-Taxation/Archive-Cook-County-Assessor-s-Residential-Sales-D/5pge-nu6u) in order to build a model to predict the monetary value of a home. You can read more about data collection in the CCAO’s [Residential Data Integrity Preliminary Report](https://gitlab.com/ccao-data-science---modeling/ccao_sf_cama_dev/-/blob/master/documentation/Preliminary%20Report%20on%20Data%20Integrity%20June%207,%202019.pdf). In Project A2, you will be building a linear regression model that predicts sales prices using training data, but it's important to first understand how the structure of the data informs such a model. In this section, we will make a series of exploratory visualizations and feature engineering in preparation for that prediction task.\n",
    "\n",
    "Note that we will perform EDA on the **initial data**.\n",
    "\n",
    "### Sale Price\n",
    "We begin by examining the distribution of our target variable `Sale Price`. We have provided the following helper method `plot_distribution` that you can use to visualize the distribution of the `Sale Price` using both the histogram and the box plot at the same time. Run the following 2 cells."
   ]
  },
  {
   "cell_type": "code",
   "execution_count": 7,
   "metadata": {
    "nbgrader": {
     "grade": false,
     "grade_id": "cell-15d483a695655cea",
     "locked": true,
     "schema_version": 1,
     "solution": false
    }
   },
   "outputs": [],
   "source": [
    "def plot_distribution(data, label):\n",
    "    fig, axs = plt.subplots(nrows=2)\n",
    "\n",
    "    sns.distplot(\n",
    "        data[label], \n",
    "        ax=axs[0]\n",
    "    )\n",
    "    sns.boxplot(\n",
    "        x=data[label],\n",
    "        width=0.3, \n",
    "        ax=axs[1],\n",
    "        showfliers=False,\n",
    "    )\n",
    "\n",
    "    # Align axes\n",
    "    spacer = np.max(data[label]) * 0.05\n",
    "    xmin = np.min(data[label]) - spacer\n",
    "    xmax = np.max(data[label]) + spacer\n",
    "    axs[0].set_xlim((xmin, xmax))\n",
    "    axs[1].set_xlim((xmin, xmax))\n",
    "\n",
    "    # Remove some axis text\n",
    "    axs[0].xaxis.set_visible(False)\n",
    "    axs[0].yaxis.set_visible(False)\n",
    "    axs[1].yaxis.set_visible(False)\n",
    "\n",
    "    # Put the two plots together\n",
    "    plt.subplots_adjust(hspace=0)\n",
    "    fig.suptitle(\"Distribution of \" + label)"
   ]
  },
  {
   "cell_type": "code",
   "execution_count": 8,
   "metadata": {},
   "outputs": [
    {
     "data": {
      "image/png": "[encoded data removed]",
      "text/plain": [
       "<Figure size 1200x900 with 2 Axes>"
      ]
     },
     "metadata": {},
     "output_type": "display_data"
    }
   ],
   "source": [
    "plot_distribution(initial_data, label='Sale Price')"
   ]
  },
  {
   "cell_type": "markdown",
   "metadata": {},
   "source": [
    "We can see that the data is highly skewed to the right currently, probably because of some extremely expensive houses. To get a clearer view of the distribution, run the following cell to examine a more limited range of house prices from [\\\\$0, \\\\$1,000,000]. "
   ]
  },
  {
   "cell_type": "code",
   "execution_count": 9,
   "metadata": {},
   "outputs": [
    {
     "data": {
      "image/png": "[encoded data removed]",
      "text/plain": [
       "<Figure size 1200x900 with 1 Axes>"
      ]
     },
     "metadata": {},
     "output_type": "display_data"
    }
   ],
   "source": [
    "no_right_outliers = initial_data[initial_data['Sale Price'] <= 1000000]['Sale Price']\n",
    "plt.hist(no_right_outliers, bins=200)\n",
    "plt.xlabel(\"Sale Price\")\n",
    "plt.ylabel(\"Count\")\n",
    "plt.title(\"Distribution of Sale Price\")\n",
    "plt.show()"
   ]
  },
  {
   "cell_type": "markdown",
   "metadata": {},
   "source": [
    "Interestingly, we also see this spike near in the smallest bin of our `Sale Price` distribution, something that wasn't immediately evident from our initial plot. Run the following cell to see which values are the most common."
   ]
  },
  {
   "cell_type": "code",
   "execution_count": 10,
   "metadata": {},
   "outputs": [
    {
     "data": {
      "text/plain": [
       "Sale Price\n",
       "1         35546\n",
       "250000     1252\n",
       "200000     1232\n",
       "150000     1189\n",
       "175000     1118\n",
       "          ...  \n",
       "216756        1\n",
       "70050         1\n",
       "358590        1\n",
       "215700        1\n",
       "142515        1\n",
       "Name: count, Length: 14720, dtype: int64"
      ]
     },
     "execution_count": 10,
     "metadata": {},
     "output_type": "execute_result"
    }
   ],
   "source": [
    "initial_data['Sale Price'].value_counts()"
   ]
  },
  {
   "cell_type": "markdown",
   "metadata": {},
   "source": [
    "This should be immediately concerning. While we don't know the exact reason why so many houses were reported as \\\\$1 (most likely a placeholder value of some sort), including these data points in any model would heavily skew the fit. After all, most houses are worth more than \\\\$1!"
   ]
  },
  {
   "cell_type": "markdown",
   "metadata": {
    "deletable": false,
    "editable": false
   },
   "source": [
    "<br><br>\n",
    "\n",
    "---\n",
    "## Question 2a\n",
    "\n",
    "Our findings with the \\\\$1 entries indicates something interesting may be happening with small valued `Sale Price`s. In the cell below, use `value_counts()` to assess the count of entries for `Sale Prices` in the range of [\\\\$0, \\\\$500). Then assign `q2a` to a **list** of the **top 3 most** common `Sale Price`s as integers within the range of [\\\\$0, \\\\$500) in descending order of counts."
   ]
  },
  {
   "cell_type": "code",
   "execution_count": 23,
   "metadata": {
    "tags": []
   },
   "outputs": [
    {
     "data": {
      "text/plain": [
       "[35546, 277, 19]"
      ]
     },
     "execution_count": 23,
     "metadata": {},
     "output_type": "execute_result"
    }
   ],
   "source": [
    "values0_500 = initial_data[(initial_data['Sale Price'] >= 0) & (initial_data['Sale Price'] <= 500)]['Sale Price'].value_counts()\n",
    "q2a = values0_500.head(3).tolist()\n",
    "q2a"
   ]
  },
  {
   "cell_type": "markdown",
   "metadata": {},
   "source": [
    "This exploration has indicated to us that moving forward we should probably pick a cutoff to get rid of smaller, probably unrepresentative `Sale Price`s. As a result, moving forward you will be asked to only look at households whose price is at least \\\\$500 dollars. While this cutoff is slightly arbitrary, this decision was made to address these unrealistically low values. \n",
    "\n",
    "On the other hand, there are also the upper-bound outliers that skewed our data in the first place. Run the cell below to find the proportion of how many buildings sold for over \\\\$1,000,000."
   ]
  },
  {
   "cell_type": "code",
   "execution_count": 25,
   "metadata": {},
   "outputs": [
    {
     "data": {
      "text/plain": [
       "0.034114520129520334"
      ]
     },
     "execution_count": 25,
     "metadata": {},
     "output_type": "execute_result"
    }
   ],
   "source": [
    "len(initial_data[initial_data['Sale Price'] > 1000000]) / len(initial_data[initial_data['Sale Price'] >= 500])"
   ]
  },
  {
   "cell_type": "markdown",
   "metadata": {},
   "source": [
    "Since there's only around 3% (or 5,000) buildings that have sold over \\\\$1,000,000 it would definitely be reasonable to build a model for the [\\\\$500, \\\\$1,000,000] range. For ProjA1 though, we're going to try and build a model to handle the entire range from [\\\\$500, infinity). As a result, we will need to reason with how the outliers shape the distribution of points. One way we can make our initial visualization more legible is by log-transforming our data to neutralize the impact of the right outliers."
   ]
  },
  {
   "cell_type": "markdown",
   "metadata": {
    "deletable": false,
    "editable": false
   },
   "source": [
    "<br><br>\n",
    "\n",
    "---\n",
    "## Question 2b\n",
    "\n",
    "As previously established to zoom in on the visualization of most households, we will focus only on a subset of `Sale Price` for this assignment. In addition, it may be a good idea to apply a log transformation to `Sale Price`. In the cell below, assign `training_data` to a new `DataFrame` that is the same as `initial_data` **except with the following changes**:\n",
    "\n",
    "- `training_data` should contain only households whose price is at least $500.\n",
    "- `training_data` should contain a new `Log Sale Price` column that contains the log-transformed sale prices.\n",
    "\n",
    "**You should NOT remove or modify the original column `Sale Price` as it will be helpful for later questions.** If you accidentally remove it, just restart your kernel and run the cells again.\n",
    "\n",
    "**Note**: This also implies from now on, our target variable in the model will be the log-transformed sale prices from the column `Log Sale Price`. \n",
    "\n",
    "*To ensure that any error from this part does not propagate to later questions, there will be no hidden tests for this question.*"
   ]
  },
  {
   "cell_type": "code",
   "execution_count": 27,
   "metadata": {
    "tags": []
   },
   "outputs": [
    {
     "data": {
      "text/html": [
       "<div>\n",
       "<style scoped>\n",
       "    .dataframe tbody tr th:only-of-type {\n",
       "        vertical-align: middle;\n",
       "    }\n",
       "\n",
       "    .dataframe tbody tr th {\n",
       "        vertical-align: top;\n",
       "    }\n",
       "\n",
       "    .dataframe thead th {\n",
       "        text-align: right;\n",
       "    }\n",
       "</style>\n",
       "<table border=\"1\" class=\"dataframe\">\n",
       "  <thead>\n",
       "    <tr style=\"text-align: right;\">\n",
       "      <th></th>\n",
       "      <th>PIN</th>\n",
       "      <th>Property Class</th>\n",
       "      <th>Neighborhood Code</th>\n",
       "      <th>Land Square Feet</th>\n",
       "      <th>Town Code</th>\n",
       "      <th>Apartments</th>\n",
       "      <th>Wall Material</th>\n",
       "      <th>Roof Material</th>\n",
       "      <th>Basement</th>\n",
       "      <th>Basement Finish</th>\n",
       "      <th>...</th>\n",
       "      <th>Sale Half of Year</th>\n",
       "      <th>Most Recent Sale</th>\n",
       "      <th>Age Decade</th>\n",
       "      <th>Pure Market Filter</th>\n",
       "      <th>Garage Indicator</th>\n",
       "      <th>Neigborhood Code (mapping)</th>\n",
       "      <th>Town and Neighborhood</th>\n",
       "      <th>Description</th>\n",
       "      <th>Lot Size</th>\n",
       "      <th>Log Sale Price</th>\n",
       "    </tr>\n",
       "  </thead>\n",
       "  <tbody>\n",
       "    <tr>\n",
       "      <th>1</th>\n",
       "      <td>13272240180000</td>\n",
       "      <td>202</td>\n",
       "      <td>120</td>\n",
       "      <td>3780.0</td>\n",
       "      <td>71</td>\n",
       "      <td>0.0</td>\n",
       "      <td>2.0</td>\n",
       "      <td>1.0</td>\n",
       "      <td>1.0</td>\n",
       "      <td>1.0</td>\n",
       "      <td>...</td>\n",
       "      <td>1</td>\n",
       "      <td>1.0</td>\n",
       "      <td>9.6</td>\n",
       "      <td>1</td>\n",
       "      <td>1.0</td>\n",
       "      <td>120</td>\n",
       "      <td>71120</td>\n",
       "      <td>This property, sold on 05/23/2018, is a one-st...</td>\n",
       "      <td>3780.0</td>\n",
       "      <td>12.560244</td>\n",
       "    </tr>\n",
       "    <tr>\n",
       "      <th>2</th>\n",
       "      <td>25221150230000</td>\n",
       "      <td>202</td>\n",
       "      <td>210</td>\n",
       "      <td>4375.0</td>\n",
       "      <td>70</td>\n",
       "      <td>0.0</td>\n",
       "      <td>2.0</td>\n",
       "      <td>1.0</td>\n",
       "      <td>2.0</td>\n",
       "      <td>3.0</td>\n",
       "      <td>...</td>\n",
       "      <td>1</td>\n",
       "      <td>0.0</td>\n",
       "      <td>11.2</td>\n",
       "      <td>1</td>\n",
       "      <td>1.0</td>\n",
       "      <td>210</td>\n",
       "      <td>70210</td>\n",
       "      <td>This property, sold on 02/18/2016, is a one-st...</td>\n",
       "      <td>4375.0</td>\n",
       "      <td>9.998798</td>\n",
       "    </tr>\n",
       "    <tr>\n",
       "      <th>3</th>\n",
       "      <td>10251130030000</td>\n",
       "      <td>203</td>\n",
       "      <td>220</td>\n",
       "      <td>4375.0</td>\n",
       "      <td>17</td>\n",
       "      <td>0.0</td>\n",
       "      <td>3.0</td>\n",
       "      <td>1.0</td>\n",
       "      <td>1.0</td>\n",
       "      <td>3.0</td>\n",
       "      <td>...</td>\n",
       "      <td>2</td>\n",
       "      <td>1.0</td>\n",
       "      <td>6.3</td>\n",
       "      <td>1</td>\n",
       "      <td>1.0</td>\n",
       "      <td>220</td>\n",
       "      <td>17220</td>\n",
       "      <td>This property, sold on 07/23/2013, is a one-st...</td>\n",
       "      <td>4375.0</td>\n",
       "      <td>12.323856</td>\n",
       "    </tr>\n",
       "    <tr>\n",
       "      <th>4</th>\n",
       "      <td>31361040550000</td>\n",
       "      <td>202</td>\n",
       "      <td>120</td>\n",
       "      <td>8400.0</td>\n",
       "      <td>32</td>\n",
       "      <td>0.0</td>\n",
       "      <td>3.0</td>\n",
       "      <td>1.0</td>\n",
       "      <td>2.0</td>\n",
       "      <td>3.0</td>\n",
       "      <td>...</td>\n",
       "      <td>1</td>\n",
       "      <td>0.0</td>\n",
       "      <td>6.3</td>\n",
       "      <td>1</td>\n",
       "      <td>1.0</td>\n",
       "      <td>120</td>\n",
       "      <td>32120</td>\n",
       "      <td>This property, sold on 06/10/2016, is a one-st...</td>\n",
       "      <td>8400.0</td>\n",
       "      <td>10.025705</td>\n",
       "    </tr>\n",
       "    <tr>\n",
       "      <th>6</th>\n",
       "      <td>30314240080000</td>\n",
       "      <td>203</td>\n",
       "      <td>181</td>\n",
       "      <td>10890.0</td>\n",
       "      <td>37</td>\n",
       "      <td>0.0</td>\n",
       "      <td>1.0</td>\n",
       "      <td>1.0</td>\n",
       "      <td>1.0</td>\n",
       "      <td>3.0</td>\n",
       "      <td>...</td>\n",
       "      <td>2</td>\n",
       "      <td>1.0</td>\n",
       "      <td>10.9</td>\n",
       "      <td>1</td>\n",
       "      <td>1.0</td>\n",
       "      <td>181</td>\n",
       "      <td>37181</td>\n",
       "      <td>This property, sold on 10/26/2017, is a one-st...</td>\n",
       "      <td>10890.0</td>\n",
       "      <td>11.512925</td>\n",
       "    </tr>\n",
       "  </tbody>\n",
       "</table>\n",
       "<p>5 rows × 63 columns</p>\n",
       "</div>"
      ],
      "text/plain": [
       "              PIN  Property Class  Neighborhood Code  Land Square Feet  \\\n",
       "1  13272240180000             202                120            3780.0   \n",
       "2  25221150230000             202                210            4375.0   \n",
       "3  10251130030000             203                220            4375.0   \n",
       "4  31361040550000             202                120            8400.0   \n",
       "6  30314240080000             203                181           10890.0   \n",
       "\n",
       "   Town Code  Apartments  Wall Material  Roof Material  Basement  \\\n",
       "1         71         0.0            2.0            1.0       1.0   \n",
       "2         70         0.0            2.0            1.0       2.0   \n",
       "3         17         0.0            3.0            1.0       1.0   \n",
       "4         32         0.0            3.0            1.0       2.0   \n",
       "6         37         0.0            1.0            1.0       1.0   \n",
       "\n",
       "   Basement Finish  ...  Sale Half of Year  Most Recent Sale  Age Decade  \\\n",
       "1              1.0  ...                  1               1.0         9.6   \n",
       "2              3.0  ...                  1               0.0        11.2   \n",
       "3              3.0  ...                  2               1.0         6.3   \n",
       "4              3.0  ...                  1               0.0         6.3   \n",
       "6              3.0  ...                  2               1.0        10.9   \n",
       "\n",
       "   Pure Market Filter  Garage Indicator  Neigborhood Code (mapping)  \\\n",
       "1                   1               1.0                         120   \n",
       "2                   1               1.0                         210   \n",
       "3                   1               1.0                         220   \n",
       "4                   1               1.0                         120   \n",
       "6                   1               1.0                         181   \n",
       "\n",
       "   Town and Neighborhood                                        Description  \\\n",
       "1                  71120  This property, sold on 05/23/2018, is a one-st...   \n",
       "2                  70210  This property, sold on 02/18/2016, is a one-st...   \n",
       "3                  17220  This property, sold on 07/23/2013, is a one-st...   \n",
       "4                  32120  This property, sold on 06/10/2016, is a one-st...   \n",
       "6                  37181  This property, sold on 10/26/2017, is a one-st...   \n",
       "\n",
       "   Lot Size  Log Sale Price  \n",
       "1    3780.0       12.560244  \n",
       "2    4375.0        9.998798  \n",
       "3    4375.0       12.323856  \n",
       "4    8400.0       10.025705  \n",
       "6   10890.0       11.512925  \n",
       "\n",
       "[5 rows x 63 columns]"
      ]
     },
     "execution_count": 27,
     "metadata": {},
     "output_type": "execute_result"
    }
   ],
   "source": [
    "training_data = initial_data[initial_data['Sale Price'] >= 500]\n",
    "training_data['Log Sale Price'] = np.log(training_data['Sale Price'])\n",
    "training_data.head()"
   ]
  },
  {
   "cell_type": "markdown",
   "metadata": {},
   "source": [
    "Let's create a new distribution plot using the log-transformed sale prices. As a sanity check, you should see that the distribution for `Log Scale Price` is much more uniform."
   ]
  },
  {
   "cell_type": "code",
   "execution_count": 29,
   "metadata": {},
   "outputs": [
    {
     "data": {
      "image/png": "[encoded data removed]",
      "text/plain": [
       "<Figure size 1200x900 with 2 Axes>"
      ]
     },
     "metadata": {},
     "output_type": "display_data"
    }
   ],
   "source": [
    "plot_distribution(training_data, label='Log Sale Price');"
   ]
  },
  {
   "cell_type": "markdown",
   "metadata": {
    "deletable": false,
    "editable": false
   },
   "source": [
    "<br><br>\n",
    "\n",
    "---\n",
    "## Question 3a\n",
    "\n",
    "\n",
    "Is the following statement correct? Assign your answer to `q3statement`.\n",
    "\n",
    "     \"At least 25% of the properties in the training set sold for more than $200,000.00.\"\n",
    "\n",
    "**Note:** The provided test for this question does not confirm that you have answered correctly; only that you have assigned `q3statement` to `True` or `False`."
   ]
  },
  {
   "cell_type": "code",
   "execution_count": 30,
   "metadata": {
    "nbgrader": {
     "grade": false,
     "grade_id": "q1-answer",
     "locked": false,
     "schema_version": 1,
     "solution": true
    },
    "tags": []
   },
   "outputs": [],
   "source": [
    "# This should be set to True or False\n",
    "q3statement = True"
   ]
  },
  {
   "cell_type": "markdown",
   "metadata": {
    "deletable": false,
    "editable": false
   },
   "source": [
    "<br><br>\n",
    "\n",
    "---\n",
    "## Question 3b\n",
    "\n",
    "Next, we want to explore if there is any correlation between `Log Sale Price` and the total area occupied by the property. The `codebook.txt` file tells us the column `Building Square Feet` should do the trick — it measures \"(from the exterior) the total area, in square feet, occupied by the building\".\n",
    "\n",
    "Let's also apply a log transformation to the `Building Square Feet` column.\n",
    "\n",
    "In the following cell, create a new column `Log Building Square Feet` in our `training_data` that contains the log-transformed area occupied by each property. \n",
    "\n",
    "**You should NOT remove or modify the original `Building Square Feet` column as it will be used for later questions**. If you accidentally remove it, just restart your kernel and run the cells again.\n",
    "\n",
    "*To ensure that any errors from this part do not propagate to later questions, there will be no hidden tests for this question.*"
   ]
  },
  {
   "cell_type": "code",
   "execution_count": 32,
   "metadata": {
    "tags": []
   },
   "outputs": [],
   "source": [
    "training_data['Log Building Square Feet'] = np.log(training_data['Building Square Feet'])"
   ]
  },
  {
   "cell_type": "markdown",
   "metadata": {
    "deletable": false,
    "editable": false
   },
   "source": [
    "<!-- BEGIN QUESTION -->\n",
    "\n",
    "<br><br>\n",
    "\n",
    "---\n",
    "## Question 3c\n",
    "\n",
    "In the visualization below, we created a `jointplot` with `Log Building Square Feet` on the x-axis, and `Log Sale Price` on the y-axis. In addition, we fit a simple linear regression line through the bivariate scatter plot in the middle.\n",
    "\n",
    "Based on the following plot, would `Log Building Square Feet` make a good candidate as one of the features for our model? Why or why not?\n",
    "\n",
    "**Hint:** To help answer this question, ask yourself: what kind of relationship does a “good” feature share with the target variable we aim to predict?\n",
    "\n",
    "![Joint Plot](images/q2p3_jointplot.png)\n"
   ]
  },
  {
   "cell_type": "markdown",
   "metadata": {},
   "source": [
    "Based on the jointplot, Log Building Square Feet appears to be a good candidate as a feature for predicting Log Sale Price. The visualization reveals a strong positive correlation between the two variables, with a clear linear trend that is consistent across the range of building sizes. "
   ]
  },
  {
   "cell_type": "markdown",
   "metadata": {
    "deletable": false,
    "editable": false
   },
   "source": [
    "<!-- END QUESTION -->\n",
    "\n",
    "<br><br>\n",
    "\n",
    "---\n",
    "## Question 4\n",
    "\n",
    "Continuing from the previous part, as you explore the dataset, you might still run into more outliers that prevent you from creating a clear visualization or capturing the trend of the majority of the houses. \n",
    "\n",
    "Write a function `remove_outliers` that removes outliers from the dataset based on a threshold value of a variable. For example, `remove_outliers(training_data, 'Building Square Feet', lower=500, upper=8000)` should return a copy of `data` with only observations that satisfy `Building Square Feet` less than 8000 (exclusive) and `Building Square Feet` greater than 500 (exclusive).\n",
    "\n",
    "**Note:** The provided tests simply check that the `remove_outliers` function you defined does not mutate the input data in-place. They do not check that you have implemented `remove_outliers` correctly so that it works with any data, variable, lower, and upper bound."
   ]
  },
  {
   "cell_type": "code",
   "execution_count": 34,
   "metadata": {
    "nbgrader": {
     "grade": false,
     "grade_id": "cell-9186ec2ca053d0aa",
     "locked": false,
     "schema_version": 1,
     "solution": true
    },
    "tags": []
   },
   "outputs": [],
   "source": [
    "def remove_outliers(data, variable, lower=-np.inf, upper=np.inf):\n",
    "    \"\"\"\n",
    "    Input:\n",
    "      data (DataFrame): the table to be filtered\n",
    "      variable (string): the column with numerical outliers\n",
    "      lower (numeric): observations with values lower than or equal to this will be removed\n",
    "      upper (numeric): observations with values higher than or equal to this will be removed\n",
    "    \n",
    "    Output:\n",
    "      a DataFrame with outliers removed\n",
    "      \n",
    "    Note: This function should not change mutate the contents of data.\n",
    "    \"\"\"  \n",
    "    return data[(data[variable] > lower) & (data[variable] < upper)]"
   ]
  },
  {
   "cell_type": "markdown",
   "metadata": {
    "deletable": false,
    "editable": false
   },
   "source": [
    "<br/><br/>\n",
    "<hr style=\"border: 1px solid #fdb515;\" />\n",
    "\n",
    "# Part 3: Feature Engineering\n",
    "\n",
    "In this section, we will walk you through a few feature engineering techniques. \n",
    "\n",
    "### Bedrooms\n",
    "\n",
    "Let's start simple by extracting the total number of bedrooms as our first feature for the model. You may notice that the `Bedrooms` column doesn't actually exist in the original `DataFrame`! Instead, it is part of the `Description` column.\n",
    "\n",
    "<br><br>\n",
    "\n",
    "---\n",
    "## Question 5a\n",
    "\n",
    "Let's take a closer look at the `Description` column first. Compare the description for a few rows. For the following list of variables, how many of them can be extracted from the `Description` column? Assign your answer to a list of integers corresponding to the statements that you think are true (ie. `[1, 2, 3]`).\n",
    "\n",
    "1. The date the property was sold on.\n",
    "2. The number of stories the property contains.\n",
    "3. The previous owner of the property.\n",
    "4. The address of the property.\n",
    "5. The number of garages the property has.\n",
    "6. The total number of rooms inside the property.\n",
    "7. The total number of bedrooms inside the property.\n",
    "8. The total number of bathrooms inside the property."
   ]
  },
  {
   "cell_type": "code",
   "execution_count": null,
   "metadata": {
    "deletable": false,
    "editable": false
   },
   "outputs": [],
   "source": [
    "# optional cell for scratch work "
   ]
  },
  {
   "cell_type": "code",
   "execution_count": 43,
   "metadata": {
    "tags": []
   },
   "outputs": [],
   "source": [
    "q5a = [1, 2, 4, 6, 7, 8]"
   ]
  },
  {
   "cell_type": "code",
   "execution_count": 54,
   "metadata": {},
   "outputs": [
    {
     "data": {
      "text/plain": [
       "'This property, sold on 10/26/2017, is a one-story with partially livable attics houeshold located at 2820 186TH ST.It has a total of 6 rooms, 4 of which are bedrooms, and 1.5 of which are bathrooms.'"
      ]
     },
     "execution_count": 54,
     "metadata": {},
     "output_type": "execute_result"
    }
   ],
   "source": [
    "training_data['Description'].iloc[4]"
   ]
  },
  {
   "cell_type": "markdown",
   "metadata": {
    "deletable": false,
    "editable": false
   },
   "source": [
    "<br><br>\n",
    "\n",
    "---\n",
    "## Question 5b\n",
    "\n",
    "Write a function `add_total_bedrooms(data)` that returns a copy of `data` with an additional column called `Bedrooms` that contains the total number of bedrooms (**as integers**) for each house. Treat missing values as zeros, if necessary. Remember that you can make use of vectorized code here; you shouldn't need any `for` statements. \n",
    "\n",
    "**Hint**: You should consider inspecting the `Description` column to figure out if there is any general structure within the text. Once you have noticed a certain pattern, you are set with the power of RegEx!"
   ]
  },
  {
   "cell_type": "code",
   "execution_count": 56,
   "metadata": {
    "tags": []
   },
   "outputs": [],
   "source": [
    "def add_total_bedrooms(data):\n",
    "    \"\"\"\n",
    "    Input:\n",
    "      data (DataFrame): a DataFrame containing at least the Description column.\n",
    "\n",
    "    Output:\n",
    "      a Dataframe with a new column \"Bedrooms\" containing ints.\n",
    "\n",
    "    \"\"\"\n",
    "    with_rooms = data.copy()\n",
    "    with_rooms['Bedrooms'] = with_rooms['Description'].str.extract(r'(\\d+) of which are bedrooms').astype(int)\n",
    "    return with_rooms\n",
    "\n",
    "training_data = add_total_bedrooms(training_data)\n",
    "\n"
   ]
  },
  {
   "cell_type": "markdown",
   "metadata": {
    "deletable": false,
    "editable": false
   },
   "source": [
    "<!-- BEGIN QUESTION -->\n",
    "\n",
    "<br><br>\n",
    "\n",
    "---\n",
    "## Question 5c\n",
    "\n",
    "Create a visualization that clearly and succinctly shows if there exists an association between  `Bedrooms` and `Log Sale Price`. A good visualization should satisfy the following requirements:\n",
    "- It should avoid overplotting.\n",
    "- It should have clearly labeled axes and a succinct title.\n",
    "- It should convey the strength of the correlation between `Sale Price` and the number of rooms: in other words, you should be able to look at the plot and describe the general relationship between `Log Sale Price` and `Bedrooms`.\n",
    "\n",
    "**Hint**: A direct scatter plot of the `Sale Price` against the number of rooms for all of the households in our training data might risk overplotting."
   ]
  },
  {
   "cell_type": "code",
   "execution_count": 87,
   "metadata": {
    "tags": []
   },
   "outputs": [
    {
     "data": {
      "image/png": "[encoded data removed]",
      "text/plain": [
       "<Figure size 1200x900 with 1 Axes>"
      ]
     },
     "metadata": {},
     "output_type": "display_data"
    }
   ],
   "source": [
    "sns.boxplot(x='Bedrooms', y='Log Sale Price', data=training_data, \n",
    "            color='lightblue', whis=1.5)\n",
    "plt.xlabel('Number of Bedrooms')\n",
    "plt.ylabel('Log Sale Price')\n",
    "plt.title('Distribution of Log Sale Price by Number of Bedrooms')\n",
    "plt.show()"
   ]
  },
  {
   "cell_type": "markdown",
   "metadata": {
    "deletable": false,
    "editable": false
   },
   "source": [
    "<!-- END QUESTION -->\n",
    "\n",
    "Now, let's take a look at the relationship between neighborhood and sale prices of the houses in our dataset.\n",
    "Notice that currently we don't have the actual names for the neighborhoods. Instead we will use a similar column, `Neighborhood Code` (which is a numerical encoding of the actual neighborhoods by the Assessment office)."
   ]
  },
  {
   "cell_type": "markdown",
   "metadata": {
    "deletable": false,
    "editable": false
   },
   "source": [
    "<br><br>\n",
    "\n",
    "---\n",
    "## Question 6a\n",
    "\n",
    "Before creating any visualization, let's quickly inspect how many different neighborhoods we are dealing with.\n",
    "\n",
    "Assign the variable `num_neighborhoods` to the total number of unique neighborhoods in `training_data`. \n"
   ]
  },
  {
   "cell_type": "code",
   "execution_count": 83,
   "metadata": {
    "tags": []
   },
   "outputs": [
    {
     "data": {
      "text/plain": [
       "193"
      ]
     },
     "execution_count": 83,
     "metadata": {},
     "output_type": "execute_result"
    }
   ],
   "source": [
    "num_neighborhoods = len(training_data['Neighborhood Code'].unique())\n",
    "num_neighborhoods\n"
   ]
  },
  {
   "cell_type": "markdown",
   "metadata": {},
   "source": [
    "<br><br>\n",
    "\n",
    "---\n",
    "## Question 6b\n",
    "\n",
    "If we try directly plotting the distribution of `Log Sale Price` for all of the households in each neighborhood using the `plot_categorical` function from the next cell, we get the following visualization.\n",
    "\n",
    "\n",
    "![overplot](images/q5p2_catplot.png)\n"
   ]
  },
  {
   "cell_type": "code",
   "execution_count": 85,
   "metadata": {
    "scrolled": true
   },
   "outputs": [],
   "source": [
    "# Feel free to create a cell below this and run plot_categorical(training_data) if you want to see what this function outputs.\n",
    "def plot_categorical(neighborhoods):\n",
    "    fig, axs = plt.subplots(nrows=2)\n",
    "\n",
    "    sns.boxplot(\n",
    "        x='Neighborhood Code',\n",
    "        y='Log Sale Price',\n",
    "        data=neighborhoods,\n",
    "        ax=axs[0],\n",
    "    )\n",
    "\n",
    "    sns.countplot(\n",
    "        x='Neighborhood Code',\n",
    "        data=neighborhoods,\n",
    "        ax=axs[1],\n",
    "    )\n",
    "\n",
    "    # Draw median price\n",
    "    axs[0].axhline(\n",
    "        y=training_data['Log Sale Price'].median(), \n",
    "        color='red',\n",
    "        linestyle='dotted'\n",
    "    )\n",
    "\n",
    "    # Label the bars with counts\n",
    "    for patch in axs[1].patches:\n",
    "        x = patch.get_bbox().get_points()[:, 0]\n",
    "        y = patch.get_bbox().get_points()[1, 1]\n",
    "        axs[1].annotate(f'{int(y)}', (x.mean(), y), ha='center', va='bottom')\n",
    "\n",
    "    # Format x-axes\n",
    "    axs[1].set_xticklabels(axs[1].xaxis.get_majorticklabels(), rotation=90)\n",
    "    axs[0].xaxis.set_visible(False)\n",
    "\n",
    "    # Narrow the gap between the plots\n",
    "    plt.subplots_adjust(hspace=0.01)"
   ]
  },
  {
   "cell_type": "markdown",
   "metadata": {
    "deletable": false,
    "editable": false
   },
   "source": [
    "Oh no, looks like we have run into the problem of overplotting again! \n",
    "\n",
    "You might have noticed that the graph is overplotted because **there are actually quite a few neighborhoods in our dataset**! For the clarity of our visualization, we will have to zoom in again on a few of them. The reason for this is our visualization will become quite cluttered with a super dense x-axis.\n",
    "\n",
    "Assign the variable `in_top_20_neighborhoods` to a copy of `training_data` that has been filtered to only contain rows corresponding to properties that are in one of the top 20 most popular neighborhoods. We define the top 20 most popular neighborhoods as being the 20 neighborhood codes that have the greatest number of property sales within them."
   ]
  },
  {
   "cell_type": "code",
   "execution_count": 100,
   "metadata": {
    "tags": []
   },
   "outputs": [
    {
     "data": {
      "text/html": [
       "<div>\n",
       "<style scoped>\n",
       "    .dataframe tbody tr th:only-of-type {\n",
       "        vertical-align: middle;\n",
       "    }\n",
       "\n",
       "    .dataframe tbody tr th {\n",
       "        vertical-align: top;\n",
       "    }\n",
       "\n",
       "    .dataframe thead th {\n",
       "        text-align: right;\n",
       "    }\n",
       "</style>\n",
       "<table border=\"1\" class=\"dataframe\">\n",
       "  <thead>\n",
       "    <tr style=\"text-align: right;\">\n",
       "      <th></th>\n",
       "      <th>PIN</th>\n",
       "      <th>Property Class</th>\n",
       "      <th>Neighborhood Code</th>\n",
       "      <th>Land Square Feet</th>\n",
       "      <th>Town Code</th>\n",
       "      <th>Apartments</th>\n",
       "      <th>Wall Material</th>\n",
       "      <th>Roof Material</th>\n",
       "      <th>Basement</th>\n",
       "      <th>Basement Finish</th>\n",
       "      <th>...</th>\n",
       "      <th>Age Decade</th>\n",
       "      <th>Pure Market Filter</th>\n",
       "      <th>Garage Indicator</th>\n",
       "      <th>Neigborhood Code (mapping)</th>\n",
       "      <th>Town and Neighborhood</th>\n",
       "      <th>Description</th>\n",
       "      <th>Lot Size</th>\n",
       "      <th>Log Sale Price</th>\n",
       "      <th>Log Building Square Feet</th>\n",
       "      <th>Bedrooms</th>\n",
       "    </tr>\n",
       "  </thead>\n",
       "  <tbody>\n",
       "    <tr>\n",
       "      <th>1</th>\n",
       "      <td>13272240180000</td>\n",
       "      <td>202</td>\n",
       "      <td>120</td>\n",
       "      <td>3780.0</td>\n",
       "      <td>71</td>\n",
       "      <td>0.0</td>\n",
       "      <td>2.0</td>\n",
       "      <td>1.0</td>\n",
       "      <td>1.0</td>\n",
       "      <td>1.0</td>\n",
       "      <td>...</td>\n",
       "      <td>9.6</td>\n",
       "      <td>1</td>\n",
       "      <td>1.0</td>\n",
       "      <td>120</td>\n",
       "      <td>71120</td>\n",
       "      <td>This property, sold on 05/23/2018, is a one-st...</td>\n",
       "      <td>3780.0</td>\n",
       "      <td>12.560244</td>\n",
       "      <td>6.904751</td>\n",
       "      <td>3</td>\n",
       "    </tr>\n",
       "    <tr>\n",
       "      <th>4</th>\n",
       "      <td>31361040550000</td>\n",
       "      <td>202</td>\n",
       "      <td>120</td>\n",
       "      <td>8400.0</td>\n",
       "      <td>32</td>\n",
       "      <td>0.0</td>\n",
       "      <td>3.0</td>\n",
       "      <td>1.0</td>\n",
       "      <td>2.0</td>\n",
       "      <td>3.0</td>\n",
       "      <td>...</td>\n",
       "      <td>6.3</td>\n",
       "      <td>1</td>\n",
       "      <td>1.0</td>\n",
       "      <td>120</td>\n",
       "      <td>32120</td>\n",
       "      <td>This property, sold on 06/10/2016, is a one-st...</td>\n",
       "      <td>8400.0</td>\n",
       "      <td>10.025705</td>\n",
       "      <td>6.855409</td>\n",
       "      <td>2</td>\n",
       "    </tr>\n",
       "    <tr>\n",
       "      <th>8</th>\n",
       "      <td>13232040260000</td>\n",
       "      <td>205</td>\n",
       "      <td>70</td>\n",
       "      <td>3100.0</td>\n",
       "      <td>71</td>\n",
       "      <td>0.0</td>\n",
       "      <td>2.0</td>\n",
       "      <td>2.0</td>\n",
       "      <td>1.0</td>\n",
       "      <td>3.0</td>\n",
       "      <td>...</td>\n",
       "      <td>10.0</td>\n",
       "      <td>1</td>\n",
       "      <td>1.0</td>\n",
       "      <td>70</td>\n",
       "      <td>7170</td>\n",
       "      <td>This property, sold on 08/25/2016, is a two-st...</td>\n",
       "      <td>3100.0</td>\n",
       "      <td>13.422468</td>\n",
       "      <td>7.636270</td>\n",
       "      <td>4</td>\n",
       "    </tr>\n",
       "    <tr>\n",
       "      <th>10</th>\n",
       "      <td>19074270080000</td>\n",
       "      <td>202</td>\n",
       "      <td>380</td>\n",
       "      <td>3750.0</td>\n",
       "      <td>72</td>\n",
       "      <td>0.0</td>\n",
       "      <td>1.0</td>\n",
       "      <td>1.0</td>\n",
       "      <td>2.0</td>\n",
       "      <td>3.0</td>\n",
       "      <td>...</td>\n",
       "      <td>7.4</td>\n",
       "      <td>1</td>\n",
       "      <td>1.0</td>\n",
       "      <td>380</td>\n",
       "      <td>72380</td>\n",
       "      <td>This property, sold on 05/01/2017, is a one-st...</td>\n",
       "      <td>3750.0</td>\n",
       "      <td>11.695247</td>\n",
       "      <td>6.841615</td>\n",
       "      <td>2</td>\n",
       "    </tr>\n",
       "    <tr>\n",
       "      <th>11</th>\n",
       "      <td>15083050330000</td>\n",
       "      <td>203</td>\n",
       "      <td>20</td>\n",
       "      <td>5092.0</td>\n",
       "      <td>31</td>\n",
       "      <td>0.0</td>\n",
       "      <td>2.0</td>\n",
       "      <td>1.0</td>\n",
       "      <td>1.0</td>\n",
       "      <td>1.0</td>\n",
       "      <td>...</td>\n",
       "      <td>5.8</td>\n",
       "      <td>1</td>\n",
       "      <td>1.0</td>\n",
       "      <td>20</td>\n",
       "      <td>3120</td>\n",
       "      <td>This property, sold on 04/29/2014, is a one-st...</td>\n",
       "      <td>5092.0</td>\n",
       "      <td>11.184421</td>\n",
       "      <td>6.911747</td>\n",
       "      <td>3</td>\n",
       "    </tr>\n",
       "    <tr>\n",
       "      <th>...</th>\n",
       "      <td>...</td>\n",
       "      <td>...</td>\n",
       "      <td>...</td>\n",
       "      <td>...</td>\n",
       "      <td>...</td>\n",
       "      <td>...</td>\n",
       "      <td>...</td>\n",
       "      <td>...</td>\n",
       "      <td>...</td>\n",
       "      <td>...</td>\n",
       "      <td>...</td>\n",
       "      <td>...</td>\n",
       "      <td>...</td>\n",
       "      <td>...</td>\n",
       "      <td>...</td>\n",
       "      <td>...</td>\n",
       "      <td>...</td>\n",
       "      <td>...</td>\n",
       "      <td>...</td>\n",
       "      <td>...</td>\n",
       "      <td>...</td>\n",
       "    </tr>\n",
       "    <tr>\n",
       "      <th>204781</th>\n",
       "      <td>20361190390000</td>\n",
       "      <td>203</td>\n",
       "      <td>80</td>\n",
       "      <td>4405.0</td>\n",
       "      <td>70</td>\n",
       "      <td>0.0</td>\n",
       "      <td>2.0</td>\n",
       "      <td>1.0</td>\n",
       "      <td>1.0</td>\n",
       "      <td>3.0</td>\n",
       "      <td>...</td>\n",
       "      <td>5.7</td>\n",
       "      <td>1</td>\n",
       "      <td>1.0</td>\n",
       "      <td>80</td>\n",
       "      <td>7080</td>\n",
       "      <td>This property, sold on 07/15/2013, is a one-st...</td>\n",
       "      <td>4405.0</td>\n",
       "      <td>10.913269</td>\n",
       "      <td>7.141245</td>\n",
       "      <td>3</td>\n",
       "    </tr>\n",
       "    <tr>\n",
       "      <th>204785</th>\n",
       "      <td>9284030280000</td>\n",
       "      <td>202</td>\n",
       "      <td>40</td>\n",
       "      <td>6650.0</td>\n",
       "      <td>22</td>\n",
       "      <td>0.0</td>\n",
       "      <td>1.0</td>\n",
       "      <td>1.0</td>\n",
       "      <td>1.0</td>\n",
       "      <td>3.0</td>\n",
       "      <td>...</td>\n",
       "      <td>6.1</td>\n",
       "      <td>1</td>\n",
       "      <td>1.0</td>\n",
       "      <td>40</td>\n",
       "      <td>2240</td>\n",
       "      <td>This property, sold on 04/03/2014, is a one-st...</td>\n",
       "      <td>6650.0</td>\n",
       "      <td>11.736069</td>\n",
       "      <td>6.761573</td>\n",
       "      <td>3</td>\n",
       "    </tr>\n",
       "    <tr>\n",
       "      <th>204786</th>\n",
       "      <td>8141120110000</td>\n",
       "      <td>203</td>\n",
       "      <td>100</td>\n",
       "      <td>10010.0</td>\n",
       "      <td>16</td>\n",
       "      <td>0.0</td>\n",
       "      <td>2.0</td>\n",
       "      <td>1.0</td>\n",
       "      <td>1.0</td>\n",
       "      <td>1.0</td>\n",
       "      <td>...</td>\n",
       "      <td>5.6</td>\n",
       "      <td>1</td>\n",
       "      <td>1.0</td>\n",
       "      <td>100</td>\n",
       "      <td>16100</td>\n",
       "      <td>This property, sold on 09/08/2016, is a one-st...</td>\n",
       "      <td>10010.0</td>\n",
       "      <td>12.568978</td>\n",
       "      <td>6.948897</td>\n",
       "      <td>3</td>\n",
       "    </tr>\n",
       "    <tr>\n",
       "      <th>204790</th>\n",
       "      <td>9242030500000</td>\n",
       "      <td>203</td>\n",
       "      <td>80</td>\n",
       "      <td>6650.0</td>\n",
       "      <td>22</td>\n",
       "      <td>0.0</td>\n",
       "      <td>2.0</td>\n",
       "      <td>1.0</td>\n",
       "      <td>1.0</td>\n",
       "      <td>3.0</td>\n",
       "      <td>...</td>\n",
       "      <td>6.0</td>\n",
       "      <td>1</td>\n",
       "      <td>1.0</td>\n",
       "      <td>80</td>\n",
       "      <td>2280</td>\n",
       "      <td>This property, sold on 02/22/2018, is a one-st...</td>\n",
       "      <td>6650.0</td>\n",
       "      <td>12.879017</td>\n",
       "      <td>7.092574</td>\n",
       "      <td>3</td>\n",
       "    </tr>\n",
       "    <tr>\n",
       "      <th>204791</th>\n",
       "      <td>19102030080000</td>\n",
       "      <td>203</td>\n",
       "      <td>30</td>\n",
       "      <td>2500.0</td>\n",
       "      <td>72</td>\n",
       "      <td>0.0</td>\n",
       "      <td>1.0</td>\n",
       "      <td>1.0</td>\n",
       "      <td>1.0</td>\n",
       "      <td>3.0</td>\n",
       "      <td>...</td>\n",
       "      <td>4.7</td>\n",
       "      <td>1</td>\n",
       "      <td>0.0</td>\n",
       "      <td>30</td>\n",
       "      <td>7230</td>\n",
       "      <td>This property, sold on 04/22/2014, is a one-st...</td>\n",
       "      <td>2500.0</td>\n",
       "      <td>11.736069</td>\n",
       "      <td>6.946976</td>\n",
       "      <td>2</td>\n",
       "    </tr>\n",
       "  </tbody>\n",
       "</table>\n",
       "<p>85526 rows × 65 columns</p>\n",
       "</div>"
      ],
      "text/plain": [
       "                   PIN  Property Class  Neighborhood Code  Land Square Feet  \\\n",
       "1       13272240180000             202                120            3780.0   \n",
       "4       31361040550000             202                120            8400.0   \n",
       "8       13232040260000             205                 70            3100.0   \n",
       "10      19074270080000             202                380            3750.0   \n",
       "11      15083050330000             203                 20            5092.0   \n",
       "...                ...             ...                ...               ...   \n",
       "204781  20361190390000             203                 80            4405.0   \n",
       "204785   9284030280000             202                 40            6650.0   \n",
       "204786   8141120110000             203                100           10010.0   \n",
       "204790   9242030500000             203                 80            6650.0   \n",
       "204791  19102030080000             203                 30            2500.0   \n",
       "\n",
       "        Town Code  Apartments  Wall Material  Roof Material  Basement  \\\n",
       "1              71         0.0            2.0            1.0       1.0   \n",
       "4              32         0.0            3.0            1.0       2.0   \n",
       "8              71         0.0            2.0            2.0       1.0   \n",
       "10             72         0.0            1.0            1.0       2.0   \n",
       "11             31         0.0            2.0            1.0       1.0   \n",
       "...           ...         ...            ...            ...       ...   \n",
       "204781         70         0.0            2.0            1.0       1.0   \n",
       "204785         22         0.0            1.0            1.0       1.0   \n",
       "204786         16         0.0            2.0            1.0       1.0   \n",
       "204790         22         0.0            2.0            1.0       1.0   \n",
       "204791         72         0.0            1.0            1.0       1.0   \n",
       "\n",
       "        Basement Finish  ...  Age Decade  Pure Market Filter  \\\n",
       "1                   1.0  ...         9.6                   1   \n",
       "4                   3.0  ...         6.3                   1   \n",
       "8                   3.0  ...        10.0                   1   \n",
       "10                  3.0  ...         7.4                   1   \n",
       "11                  1.0  ...         5.8                   1   \n",
       "...                 ...  ...         ...                 ...   \n",
       "204781              3.0  ...         5.7                   1   \n",
       "204785              3.0  ...         6.1                   1   \n",
       "204786              1.0  ...         5.6                   1   \n",
       "204790              3.0  ...         6.0                   1   \n",
       "204791              3.0  ...         4.7                   1   \n",
       "\n",
       "        Garage Indicator  Neigborhood Code (mapping)  Town and Neighborhood  \\\n",
       "1                    1.0                         120                  71120   \n",
       "4                    1.0                         120                  32120   \n",
       "8                    1.0                          70                   7170   \n",
       "10                   1.0                         380                  72380   \n",
       "11                   1.0                          20                   3120   \n",
       "...                  ...                         ...                    ...   \n",
       "204781               1.0                          80                   7080   \n",
       "204785               1.0                          40                   2240   \n",
       "204786               1.0                         100                  16100   \n",
       "204790               1.0                          80                   2280   \n",
       "204791               0.0                          30                   7230   \n",
       "\n",
       "                                              Description  Lot Size  \\\n",
       "1       This property, sold on 05/23/2018, is a one-st...    3780.0   \n",
       "4       This property, sold on 06/10/2016, is a one-st...    8400.0   \n",
       "8       This property, sold on 08/25/2016, is a two-st...    3100.0   \n",
       "10      This property, sold on 05/01/2017, is a one-st...    3750.0   \n",
       "11      This property, sold on 04/29/2014, is a one-st...    5092.0   \n",
       "...                                                   ...       ...   \n",
       "204781  This property, sold on 07/15/2013, is a one-st...    4405.0   \n",
       "204785  This property, sold on 04/03/2014, is a one-st...    6650.0   \n",
       "204786  This property, sold on 09/08/2016, is a one-st...   10010.0   \n",
       "204790  This property, sold on 02/22/2018, is a one-st...    6650.0   \n",
       "204791  This property, sold on 04/22/2014, is a one-st...    2500.0   \n",
       "\n",
       "        Log Sale Price  Log Building Square Feet  Bedrooms  \n",
       "1            12.560244                  6.904751         3  \n",
       "4            10.025705                  6.855409         2  \n",
       "8            13.422468                  7.636270         4  \n",
       "10           11.695247                  6.841615         2  \n",
       "11           11.184421                  6.911747         3  \n",
       "...                ...                       ...       ...  \n",
       "204781       10.913269                  7.141245         3  \n",
       "204785       11.736069                  6.761573         3  \n",
       "204786       12.568978                  6.948897         3  \n",
       "204790       12.879017                  7.092574         3  \n",
       "204791       11.736069                  6.946976         2  \n",
       "\n",
       "[85526 rows x 65 columns]"
      ]
     },
     "execution_count": 100,
     "metadata": {},
     "output_type": "execute_result"
    }
   ],
   "source": [
    "top_20_neighborhood_codes = training_data['Neighborhood Code'].value_counts().head(20).index\n",
    "in_top_20_neighborhoods = training_data[training_data['Neighborhood Code'].isin(top_20_neighborhood_codes)]\n",
    "in_top_20_neighborhoods"
   ]
  },
  {
   "cell_type": "markdown",
   "metadata": {},
   "source": [
    "Let's create another of the distribution of sale price within in each neighborhood again, but this time with a narrower focus!"
   ]
  },
  {
   "cell_type": "code",
   "execution_count": 102,
   "metadata": {},
   "outputs": [
    {
     "data": {
      "image/png": "[encoded data removed]",
      "text/plain": [
       "<Figure size 1200x900 with 2 Axes>"
      ]
     },
     "metadata": {},
     "output_type": "display_data"
    }
   ],
   "source": [
    "plot_categorical(neighborhoods=in_top_20_neighborhoods)"
   ]
  },
  {
   "cell_type": "markdown",
   "metadata": {
    "deletable": false,
    "editable": false
   },
   "source": [
    "<br><br>\n",
    "\n",
    "---\n",
    "## Question 6c\n",
    "\n",
    "From the plot above, we can see that there is much less data available for some neighborhoods. For example, Neighborhood 71 has only around 27% of the number of datapoints as Neighborhood 30.\n",
    "\n",
    "One way we can deal with the lack of data from some neighborhoods is to create a new feature that bins neighborhoods together. We’ll categorize our neighborhoods in a crude way. In this question, we’ll compute how “expensive” each neighborhood is by aggregating the `Log Sale Price`s for all properties in a particular neighborhood using a `metric`, such as the median. We’ll use this `metric` to find the top `n` most expensive neighborhoods. Then, in `q6d`, we’ll label these “expensive neighborhoods” and leave all other neighborhoods unmarked.\n",
    "\n",
    "Fill in `find_expensive_neighborhoods` to return a **list** of the neighborhood codes of the **top `n`** most expensive neighborhoods as measured by our choice of aggregating function, `metric`.\n",
    "\n",
    "For example, calling `find_expensive_neighborhoods(training_data, n=3, metric=np.median)` should return the 3 neighborhood codes with the highest median `Log Sale Price` computed across all properties in those neighborhood codes. "
   ]
  },
  {
   "cell_type": "code",
   "execution_count": 103,
   "metadata": {
    "tags": []
   },
   "outputs": [
    {
     "data": {
      "text/plain": [
       "[44, 94, 93]"
      ]
     },
     "execution_count": 103,
     "metadata": {},
     "output_type": "execute_result"
    }
   ],
   "source": [
    "def find_expensive_neighborhoods(data, n=3, metric=np.median):\n",
    "    \"\"\"\n",
    "    Input:\n",
    "      data (DataFrame): should contain at least an int-valued 'Neighborhood Code'\n",
    "        and a numeric 'Log Sale Price' column\n",
    "      n (int): the number of top values desired\n",
    "      metric (function): function used for aggregating the data in each neighborhood.\n",
    "        for example, np.median for median prices\n",
    "    \n",
    "    Output:\n",
    "      a list of the the neighborhood codes of the top n highest-priced neighborhoods \n",
    "      as measured by the metric function\n",
    "    \"\"\"\n",
    "    neighborhood_prices = data.groupby('Neighborhood Code')['Log Sale Price'].agg(metric)\n",
    "    neighborhoods = neighborhood_prices.sort_values(ascending=False).head(n).index\n",
    "    \n",
    "    # This makes sure the final list contains the generic int type used in Python3, not specific ones used in NumPy.\n",
    "    return [int(code) for code in neighborhoods]\n",
    "\n",
    "expensive_neighborhoods = find_expensive_neighborhoods(training_data, 3, np.median)\n",
    "expensive_neighborhoods"
   ]
  },
  {
   "cell_type": "markdown",
   "metadata": {
    "deletable": false,
    "editable": false
   },
   "source": [
    "<br><br>\n",
    "\n",
    "---\n",
    "## Question 6d\n",
    "\n",
    "We now have a list of neighborhoods we've deemed as higher-priced than others.  Let's use that information to write an additional function `add_in_expensive_neighborhood` that takes in a `DataFrame` of housing data (`data`) and a list of neighborhood codes considered to be expensive (`expensive_neighborhoods`). You can think of `expensive_neighborhoods` as being the output of the function `find_expensive_neighborhoods` from `q6c`. \n",
    "\n",
    "Using these inputs, `add_in_expensive_neighborhood` should add a column to `data` named `in_expensive_neighborhood` that takes on the **integer** value of 1 if a property is part of a neighborhood in `expensive_neighborhoods` and the integer value of 0 if it is not. This type of variable is known as an **indicator variable**.\n",
    "\n",
    "**Hint:** `pd.Series.astype` [(documentation)](https://pandas.pydata.org/docs/reference/api/pandas.Series.astype.html) may be useful for converting `True`/`False` values to integers."
   ]
  },
  {
   "cell_type": "code",
   "execution_count": 110,
   "metadata": {
    "tags": []
   },
   "outputs": [],
   "source": [
    "def add_in_expensive_neighborhood(data, expensive_neighborhoods):\n",
    "    \"\"\"\n",
    "    Input:\n",
    "      data (DataFrame): a DataFrame containing a 'Neighborhood Code' column with values\n",
    "        found in the codebook\n",
    "      expensive_neighborhoods (list of ints): ints should be the neighborhood codes of\n",
    "        neighborhoods pre-identified as expensive\n",
    "    Output:\n",
    "      DataFrame identical to the input with the addition of a binary\n",
    "      in_expensive_neighborhood column\n",
    "    \"\"\"\n",
    "    data['in_expensive_neighborhood'] = data['Neighborhood Code'].isin(expensive_neighborhoods).astype(int)\n",
    "    return data\n",
    "\n",
    "expensive_neighborhoods = find_expensive_neighborhoods(training_data, 3, np.median)\n",
    "training_data = add_in_expensive_neighborhood(training_data, expensive_neighborhoods)"
   ]
  },
  {
   "cell_type": "markdown",
   "metadata": {},
   "source": [
    "In the following question, we will take a closer look at the `Roof Material` feature of the dataset and examine how we can incorporate categorical features into our linear model."
   ]
  },
  {
   "cell_type": "markdown",
   "metadata": {
    "deletable": false,
    "editable": false
   },
   "source": [
    "<br><br>\n",
    "\n",
    "---\n",
    "## Question 7a\n",
    "\n",
    "If we look at `codebook.txt` carefully, we can see that the Assessor's Office uses the following mapping for the numerical values in the `Roof Material` column.\n",
    "```\n",
    "Roof Material (Nominal): \n",
    "\n",
    "       1    Shingle/Asphalt\n",
    "       2    Tar & Gravel\n",
    "       3    Slate\n",
    "       4    Shake\n",
    "       5    Tile\n",
    "       6    Other\n",
    "```\n",
    "\n",
    "Write a function `substitute_roof_material` that replaces each numerical value in `Roof Material` with their corresponding roof material. Your function should return a new `DataFrame`, not modify the existing `DataFrame`. If you modify the existing `DataFrame` by accident, you can load `training_data` again in `q2b`.\n",
    "\n",
    "**Hint**: the `DataFrame.replace` ([documentation](https://pandas.pydata.org/pandas-docs/stable/generated/pandas.DataFrame.replace.html)) method may be useful here."
   ]
  },
  {
   "cell_type": "code",
   "execution_count": 119,
   "metadata": {
    "tags": []
   },
   "outputs": [
    {
     "data": {
      "text/html": [
       "<div>\n",
       "<style scoped>\n",
       "    .dataframe tbody tr th:only-of-type {\n",
       "        vertical-align: middle;\n",
       "    }\n",
       "\n",
       "    .dataframe tbody tr th {\n",
       "        vertical-align: top;\n",
       "    }\n",
       "\n",
       "    .dataframe thead th {\n",
       "        text-align: right;\n",
       "    }\n",
       "</style>\n",
       "<table border=\"1\" class=\"dataframe\">\n",
       "  <thead>\n",
       "    <tr style=\"text-align: right;\">\n",
       "      <th></th>\n",
       "      <th>PIN</th>\n",
       "      <th>Property Class</th>\n",
       "      <th>Neighborhood Code</th>\n",
       "      <th>Land Square Feet</th>\n",
       "      <th>Town Code</th>\n",
       "      <th>Apartments</th>\n",
       "      <th>Wall Material</th>\n",
       "      <th>Roof Material</th>\n",
       "      <th>Basement</th>\n",
       "      <th>Basement Finish</th>\n",
       "      <th>...</th>\n",
       "      <th>Pure Market Filter</th>\n",
       "      <th>Garage Indicator</th>\n",
       "      <th>Neigborhood Code (mapping)</th>\n",
       "      <th>Town and Neighborhood</th>\n",
       "      <th>Description</th>\n",
       "      <th>Lot Size</th>\n",
       "      <th>Log Sale Price</th>\n",
       "      <th>Log Building Square Feet</th>\n",
       "      <th>Bedrooms</th>\n",
       "      <th>in_expensive_neighborhood</th>\n",
       "    </tr>\n",
       "  </thead>\n",
       "  <tbody>\n",
       "    <tr>\n",
       "      <th>1</th>\n",
       "      <td>13272240180000</td>\n",
       "      <td>202</td>\n",
       "      <td>120</td>\n",
       "      <td>3780.0</td>\n",
       "      <td>71</td>\n",
       "      <td>0.0</td>\n",
       "      <td>2.0</td>\n",
       "      <td>Shingle/Asphalt</td>\n",
       "      <td>1.0</td>\n",
       "      <td>1.0</td>\n",
       "      <td>...</td>\n",
       "      <td>1</td>\n",
       "      <td>1.0</td>\n",
       "      <td>120</td>\n",
       "      <td>71120</td>\n",
       "      <td>This property, sold on 05/23/2018, is a one-st...</td>\n",
       "      <td>3780.0</td>\n",
       "      <td>12.560244</td>\n",
       "      <td>6.904751</td>\n",
       "      <td>3</td>\n",
       "      <td>0</td>\n",
       "    </tr>\n",
       "    <tr>\n",
       "      <th>2</th>\n",
       "      <td>25221150230000</td>\n",
       "      <td>202</td>\n",
       "      <td>210</td>\n",
       "      <td>4375.0</td>\n",
       "      <td>70</td>\n",
       "      <td>0.0</td>\n",
       "      <td>2.0</td>\n",
       "      <td>Shingle/Asphalt</td>\n",
       "      <td>2.0</td>\n",
       "      <td>3.0</td>\n",
       "      <td>...</td>\n",
       "      <td>1</td>\n",
       "      <td>1.0</td>\n",
       "      <td>210</td>\n",
       "      <td>70210</td>\n",
       "      <td>This property, sold on 02/18/2016, is a one-st...</td>\n",
       "      <td>4375.0</td>\n",
       "      <td>9.998798</td>\n",
       "      <td>6.810142</td>\n",
       "      <td>3</td>\n",
       "      <td>0</td>\n",
       "    </tr>\n",
       "    <tr>\n",
       "      <th>3</th>\n",
       "      <td>10251130030000</td>\n",
       "      <td>203</td>\n",
       "      <td>220</td>\n",
       "      <td>4375.0</td>\n",
       "      <td>17</td>\n",
       "      <td>0.0</td>\n",
       "      <td>3.0</td>\n",
       "      <td>Shingle/Asphalt</td>\n",
       "      <td>1.0</td>\n",
       "      <td>3.0</td>\n",
       "      <td>...</td>\n",
       "      <td>1</td>\n",
       "      <td>1.0</td>\n",
       "      <td>220</td>\n",
       "      <td>17220</td>\n",
       "      <td>This property, sold on 07/23/2013, is a one-st...</td>\n",
       "      <td>4375.0</td>\n",
       "      <td>12.323856</td>\n",
       "      <td>7.068172</td>\n",
       "      <td>3</td>\n",
       "      <td>0</td>\n",
       "    </tr>\n",
       "    <tr>\n",
       "      <th>4</th>\n",
       "      <td>31361040550000</td>\n",
       "      <td>202</td>\n",
       "      <td>120</td>\n",
       "      <td>8400.0</td>\n",
       "      <td>32</td>\n",
       "      <td>0.0</td>\n",
       "      <td>3.0</td>\n",
       "      <td>Shingle/Asphalt</td>\n",
       "      <td>2.0</td>\n",
       "      <td>3.0</td>\n",
       "      <td>...</td>\n",
       "      <td>1</td>\n",
       "      <td>1.0</td>\n",
       "      <td>120</td>\n",
       "      <td>32120</td>\n",
       "      <td>This property, sold on 06/10/2016, is a one-st...</td>\n",
       "      <td>8400.0</td>\n",
       "      <td>10.025705</td>\n",
       "      <td>6.855409</td>\n",
       "      <td>2</td>\n",
       "      <td>0</td>\n",
       "    </tr>\n",
       "    <tr>\n",
       "      <th>6</th>\n",
       "      <td>30314240080000</td>\n",
       "      <td>203</td>\n",
       "      <td>181</td>\n",
       "      <td>10890.0</td>\n",
       "      <td>37</td>\n",
       "      <td>0.0</td>\n",
       "      <td>1.0</td>\n",
       "      <td>Shingle/Asphalt</td>\n",
       "      <td>1.0</td>\n",
       "      <td>3.0</td>\n",
       "      <td>...</td>\n",
       "      <td>1</td>\n",
       "      <td>1.0</td>\n",
       "      <td>181</td>\n",
       "      <td>37181</td>\n",
       "      <td>This property, sold on 10/26/2017, is a one-st...</td>\n",
       "      <td>10890.0</td>\n",
       "      <td>11.512925</td>\n",
       "      <td>7.458186</td>\n",
       "      <td>4</td>\n",
       "      <td>0</td>\n",
       "    </tr>\n",
       "  </tbody>\n",
       "</table>\n",
       "<p>5 rows × 66 columns</p>\n",
       "</div>"
      ],
      "text/plain": [
       "              PIN  Property Class  Neighborhood Code  Land Square Feet  \\\n",
       "1  13272240180000             202                120            3780.0   \n",
       "2  25221150230000             202                210            4375.0   \n",
       "3  10251130030000             203                220            4375.0   \n",
       "4  31361040550000             202                120            8400.0   \n",
       "6  30314240080000             203                181           10890.0   \n",
       "\n",
       "   Town Code  Apartments  Wall Material    Roof Material  Basement  \\\n",
       "1         71         0.0            2.0  Shingle/Asphalt       1.0   \n",
       "2         70         0.0            2.0  Shingle/Asphalt       2.0   \n",
       "3         17         0.0            3.0  Shingle/Asphalt       1.0   \n",
       "4         32         0.0            3.0  Shingle/Asphalt       2.0   \n",
       "6         37         0.0            1.0  Shingle/Asphalt       1.0   \n",
       "\n",
       "   Basement Finish  ...  Pure Market Filter  Garage Indicator  \\\n",
       "1              1.0  ...                   1               1.0   \n",
       "2              3.0  ...                   1               1.0   \n",
       "3              3.0  ...                   1               1.0   \n",
       "4              3.0  ...                   1               1.0   \n",
       "6              3.0  ...                   1               1.0   \n",
       "\n",
       "   Neigborhood Code (mapping)  Town and Neighborhood  \\\n",
       "1                         120                  71120   \n",
       "2                         210                  70210   \n",
       "3                         220                  17220   \n",
       "4                         120                  32120   \n",
       "6                         181                  37181   \n",
       "\n",
       "                                         Description  Lot Size  \\\n",
       "1  This property, sold on 05/23/2018, is a one-st...    3780.0   \n",
       "2  This property, sold on 02/18/2016, is a one-st...    4375.0   \n",
       "3  This property, sold on 07/23/2013, is a one-st...    4375.0   \n",
       "4  This property, sold on 06/10/2016, is a one-st...    8400.0   \n",
       "6  This property, sold on 10/26/2017, is a one-st...   10890.0   \n",
       "\n",
       "   Log Sale Price  Log Building Square Feet  Bedrooms  \\\n",
       "1       12.560244                  6.904751         3   \n",
       "2        9.998798                  6.810142         3   \n",
       "3       12.323856                  7.068172         3   \n",
       "4       10.025705                  6.855409         2   \n",
       "6       11.512925                  7.458186         4   \n",
       "\n",
       "   in_expensive_neighborhood  \n",
       "1                          0  \n",
       "2                          0  \n",
       "3                          0  \n",
       "4                          0  \n",
       "6                          0  \n",
       "\n",
       "[5 rows x 66 columns]"
      ]
     },
     "execution_count": 119,
     "metadata": {},
     "output_type": "execute_result"
    }
   ],
   "source": [
    "def substitute_roof_material(data):\n",
    "    \"\"\"\n",
    "    Input:\n",
    "      data (DataFrame): a DataFrame containing a 'Roof Material' column.  Its values\n",
    "                         should be limited to those found in the codebook\n",
    "    Output:\n",
    "      new DataFrame identical to the input except with a refactored 'Roof Material' column\n",
    "    \"\"\"\n",
    "    \n",
    "    new_data = data.copy()\n",
    "    roof_material_map = {\n",
    "        1: \"Shingle/Asphalt\",\n",
    "        2: \"Tar & Gravel\",\n",
    "        3: \"Slate\",\n",
    "        4: \"Shake\",\n",
    "        5: \"Tile\",\n",
    "        6: \"Other\"\n",
    "    }\n",
    "    \n",
    "    new_data['Roof Material'] = new_data['Roof Material'].map(roof_material_map)\n",
    "    \n",
    "    return new_data\n",
    "    \n",
    "training_data_mapped = substitute_roof_material(training_data)\n",
    "training_data_mapped.head()"
   ]
  },
  {
   "cell_type": "markdown",
   "metadata": {
    "deletable": false,
    "editable": false
   },
   "source": [
    "<br><br>\n",
    "\n",
    "---\n",
    "## Question 7b\n",
    "\n",
    "#### An Important Note on One-Hot-Encoding \n",
    "\n",
    "Unfortunately, simply replacing the integers with the appropriate strings isn’t sufficient for using `Roof Material` in our model.  Since `Roof Material` is a categorical variable, we will have to one-hot-encode the data. For more information on why we want to use one-hot-encoding, refer to this [link](https://machinelearningmastery.com/why-one-hot-encode-data-in-machine-learning/).\n",
    "\n",
    "Complete the following function `ohe_roof_material` that returns a `DataFrame` with the new column one-hot-encoded on the roof material of the household. These new columns should have the form `Roof Material_MATERIAL`. Your function should return a new `DataFrame` and **should not modify the existing `DataFrame`**.\n",
    "\n",
    "You should use `scikit-learn`’s `OneHotEncoder` to perform the one-hot-encoding. `OneHotEncoder` will automatically generate column names of the form `Roof Material_MATERIAL`. Refer back to the video walkthrough for Question 1 of Lab 7 for an example of its use. Unlike in the lab example however, in this problem we only wish to construct the one-hot-encoding columns **without removing any columns**."
   ]
  },
  {
   "cell_type": "code",
   "execution_count": 132,
   "metadata": {
    "tags": []
   },
   "outputs": [
    {
     "data": {
      "text/html": [
       "<div>\n",
       "<style scoped>\n",
       "    .dataframe tbody tr th:only-of-type {\n",
       "        vertical-align: middle;\n",
       "    }\n",
       "\n",
       "    .dataframe tbody tr th {\n",
       "        vertical-align: top;\n",
       "    }\n",
       "\n",
       "    .dataframe thead th {\n",
       "        text-align: right;\n",
       "    }\n",
       "</style>\n",
       "<table border=\"1\" class=\"dataframe\">\n",
       "  <thead>\n",
       "    <tr style=\"text-align: right;\">\n",
       "      <th></th>\n",
       "      <th>PIN</th>\n",
       "      <th>Property Class</th>\n",
       "      <th>Neighborhood Code</th>\n",
       "      <th>Land Square Feet</th>\n",
       "      <th>Town Code</th>\n",
       "      <th>Apartments</th>\n",
       "      <th>Wall Material</th>\n",
       "      <th>Roof Material</th>\n",
       "      <th>Basement</th>\n",
       "      <th>Basement Finish</th>\n",
       "      <th>...</th>\n",
       "      <th>Log Sale Price</th>\n",
       "      <th>Log Building Square Feet</th>\n",
       "      <th>Bedrooms</th>\n",
       "      <th>in_expensive_neighborhood</th>\n",
       "      <th>Roof Material_Other</th>\n",
       "      <th>Roof Material_Shake</th>\n",
       "      <th>Roof Material_Shingle/Asphalt</th>\n",
       "      <th>Roof Material_Slate</th>\n",
       "      <th>Roof Material_Tar &amp; Gravel</th>\n",
       "      <th>Roof Material_Tile</th>\n",
       "    </tr>\n",
       "  </thead>\n",
       "  <tbody>\n",
       "    <tr>\n",
       "      <th>1</th>\n",
       "      <td>13272240180000</td>\n",
       "      <td>202</td>\n",
       "      <td>120</td>\n",
       "      <td>3780.0</td>\n",
       "      <td>71</td>\n",
       "      <td>0.0</td>\n",
       "      <td>2.0</td>\n",
       "      <td>Shingle/Asphalt</td>\n",
       "      <td>1.0</td>\n",
       "      <td>1.0</td>\n",
       "      <td>...</td>\n",
       "      <td>12.560244</td>\n",
       "      <td>6.904751</td>\n",
       "      <td>3</td>\n",
       "      <td>0</td>\n",
       "      <td>0.0</td>\n",
       "      <td>0.0</td>\n",
       "      <td>1.0</td>\n",
       "      <td>0.0</td>\n",
       "      <td>0.0</td>\n",
       "      <td>0.0</td>\n",
       "    </tr>\n",
       "    <tr>\n",
       "      <th>2</th>\n",
       "      <td>25221150230000</td>\n",
       "      <td>202</td>\n",
       "      <td>210</td>\n",
       "      <td>4375.0</td>\n",
       "      <td>70</td>\n",
       "      <td>0.0</td>\n",
       "      <td>2.0</td>\n",
       "      <td>Shingle/Asphalt</td>\n",
       "      <td>2.0</td>\n",
       "      <td>3.0</td>\n",
       "      <td>...</td>\n",
       "      <td>9.998798</td>\n",
       "      <td>6.810142</td>\n",
       "      <td>3</td>\n",
       "      <td>0</td>\n",
       "      <td>0.0</td>\n",
       "      <td>0.0</td>\n",
       "      <td>1.0</td>\n",
       "      <td>0.0</td>\n",
       "      <td>0.0</td>\n",
       "      <td>0.0</td>\n",
       "    </tr>\n",
       "    <tr>\n",
       "      <th>3</th>\n",
       "      <td>10251130030000</td>\n",
       "      <td>203</td>\n",
       "      <td>220</td>\n",
       "      <td>4375.0</td>\n",
       "      <td>17</td>\n",
       "      <td>0.0</td>\n",
       "      <td>3.0</td>\n",
       "      <td>Shingle/Asphalt</td>\n",
       "      <td>1.0</td>\n",
       "      <td>3.0</td>\n",
       "      <td>...</td>\n",
       "      <td>12.323856</td>\n",
       "      <td>7.068172</td>\n",
       "      <td>3</td>\n",
       "      <td>0</td>\n",
       "      <td>0.0</td>\n",
       "      <td>0.0</td>\n",
       "      <td>1.0</td>\n",
       "      <td>0.0</td>\n",
       "      <td>0.0</td>\n",
       "      <td>0.0</td>\n",
       "    </tr>\n",
       "    <tr>\n",
       "      <th>4</th>\n",
       "      <td>31361040550000</td>\n",
       "      <td>202</td>\n",
       "      <td>120</td>\n",
       "      <td>8400.0</td>\n",
       "      <td>32</td>\n",
       "      <td>0.0</td>\n",
       "      <td>3.0</td>\n",
       "      <td>Shingle/Asphalt</td>\n",
       "      <td>2.0</td>\n",
       "      <td>3.0</td>\n",
       "      <td>...</td>\n",
       "      <td>10.025705</td>\n",
       "      <td>6.855409</td>\n",
       "      <td>2</td>\n",
       "      <td>0</td>\n",
       "      <td>0.0</td>\n",
       "      <td>0.0</td>\n",
       "      <td>1.0</td>\n",
       "      <td>0.0</td>\n",
       "      <td>0.0</td>\n",
       "      <td>0.0</td>\n",
       "    </tr>\n",
       "    <tr>\n",
       "      <th>6</th>\n",
       "      <td>30314240080000</td>\n",
       "      <td>203</td>\n",
       "      <td>181</td>\n",
       "      <td>10890.0</td>\n",
       "      <td>37</td>\n",
       "      <td>0.0</td>\n",
       "      <td>1.0</td>\n",
       "      <td>Shingle/Asphalt</td>\n",
       "      <td>1.0</td>\n",
       "      <td>3.0</td>\n",
       "      <td>...</td>\n",
       "      <td>11.512925</td>\n",
       "      <td>7.458186</td>\n",
       "      <td>4</td>\n",
       "      <td>0</td>\n",
       "      <td>0.0</td>\n",
       "      <td>0.0</td>\n",
       "      <td>1.0</td>\n",
       "      <td>0.0</td>\n",
       "      <td>0.0</td>\n",
       "      <td>0.0</td>\n",
       "    </tr>\n",
       "    <tr>\n",
       "      <th>7</th>\n",
       "      <td>4172060130000</td>\n",
       "      <td>208</td>\n",
       "      <td>52</td>\n",
       "      <td>9844.0</td>\n",
       "      <td>25</td>\n",
       "      <td>0.0</td>\n",
       "      <td>1.0</td>\n",
       "      <td>Shingle/Asphalt</td>\n",
       "      <td>3.0</td>\n",
       "      <td>3.0</td>\n",
       "      <td>...</td>\n",
       "      <td>13.586097</td>\n",
       "      <td>8.272315</td>\n",
       "      <td>4</td>\n",
       "      <td>0</td>\n",
       "      <td>0.0</td>\n",
       "      <td>0.0</td>\n",
       "      <td>1.0</td>\n",
       "      <td>0.0</td>\n",
       "      <td>0.0</td>\n",
       "      <td>0.0</td>\n",
       "    </tr>\n",
       "    <tr>\n",
       "      <th>8</th>\n",
       "      <td>13232040260000</td>\n",
       "      <td>205</td>\n",
       "      <td>70</td>\n",
       "      <td>3100.0</td>\n",
       "      <td>71</td>\n",
       "      <td>0.0</td>\n",
       "      <td>2.0</td>\n",
       "      <td>Tar &amp; Gravel</td>\n",
       "      <td>1.0</td>\n",
       "      <td>3.0</td>\n",
       "      <td>...</td>\n",
       "      <td>13.422468</td>\n",
       "      <td>7.636270</td>\n",
       "      <td>4</td>\n",
       "      <td>0</td>\n",
       "      <td>0.0</td>\n",
       "      <td>0.0</td>\n",
       "      <td>0.0</td>\n",
       "      <td>0.0</td>\n",
       "      <td>1.0</td>\n",
       "      <td>0.0</td>\n",
       "    </tr>\n",
       "    <tr>\n",
       "      <th>9</th>\n",
       "      <td>2291070550000</td>\n",
       "      <td>203</td>\n",
       "      <td>33</td>\n",
       "      <td>9600.0</td>\n",
       "      <td>29</td>\n",
       "      <td>0.0</td>\n",
       "      <td>1.0</td>\n",
       "      <td>Shingle/Asphalt</td>\n",
       "      <td>4.0</td>\n",
       "      <td>3.0</td>\n",
       "      <td>...</td>\n",
       "      <td>12.506177</td>\n",
       "      <td>7.343426</td>\n",
       "      <td>3</td>\n",
       "      <td>0</td>\n",
       "      <td>0.0</td>\n",
       "      <td>0.0</td>\n",
       "      <td>1.0</td>\n",
       "      <td>0.0</td>\n",
       "      <td>0.0</td>\n",
       "      <td>0.0</td>\n",
       "    </tr>\n",
       "    <tr>\n",
       "      <th>10</th>\n",
       "      <td>19074270080000</td>\n",
       "      <td>202</td>\n",
       "      <td>380</td>\n",
       "      <td>3750.0</td>\n",
       "      <td>72</td>\n",
       "      <td>0.0</td>\n",
       "      <td>1.0</td>\n",
       "      <td>Shingle/Asphalt</td>\n",
       "      <td>2.0</td>\n",
       "      <td>3.0</td>\n",
       "      <td>...</td>\n",
       "      <td>11.695247</td>\n",
       "      <td>6.841615</td>\n",
       "      <td>2</td>\n",
       "      <td>0</td>\n",
       "      <td>0.0</td>\n",
       "      <td>0.0</td>\n",
       "      <td>1.0</td>\n",
       "      <td>0.0</td>\n",
       "      <td>0.0</td>\n",
       "      <td>0.0</td>\n",
       "    </tr>\n",
       "    <tr>\n",
       "      <th>11</th>\n",
       "      <td>15083050330000</td>\n",
       "      <td>203</td>\n",
       "      <td>20</td>\n",
       "      <td>5092.0</td>\n",
       "      <td>31</td>\n",
       "      <td>0.0</td>\n",
       "      <td>2.0</td>\n",
       "      <td>Shingle/Asphalt</td>\n",
       "      <td>1.0</td>\n",
       "      <td>1.0</td>\n",
       "      <td>...</td>\n",
       "      <td>11.184421</td>\n",
       "      <td>6.911747</td>\n",
       "      <td>3</td>\n",
       "      <td>0</td>\n",
       "      <td>0.0</td>\n",
       "      <td>0.0</td>\n",
       "      <td>1.0</td>\n",
       "      <td>0.0</td>\n",
       "      <td>0.0</td>\n",
       "      <td>0.0</td>\n",
       "    </tr>\n",
       "  </tbody>\n",
       "</table>\n",
       "<p>10 rows × 72 columns</p>\n",
       "</div>"
      ],
      "text/plain": [
       "               PIN  Property Class  Neighborhood Code  Land Square Feet  \\\n",
       "1   13272240180000             202                120            3780.0   \n",
       "2   25221150230000             202                210            4375.0   \n",
       "3   10251130030000             203                220            4375.0   \n",
       "4   31361040550000             202                120            8400.0   \n",
       "6   30314240080000             203                181           10890.0   \n",
       "7    4172060130000             208                 52            9844.0   \n",
       "8   13232040260000             205                 70            3100.0   \n",
       "9    2291070550000             203                 33            9600.0   \n",
       "10  19074270080000             202                380            3750.0   \n",
       "11  15083050330000             203                 20            5092.0   \n",
       "\n",
       "    Town Code  Apartments  Wall Material    Roof Material  Basement  \\\n",
       "1          71         0.0            2.0  Shingle/Asphalt       1.0   \n",
       "2          70         0.0            2.0  Shingle/Asphalt       2.0   \n",
       "3          17         0.0            3.0  Shingle/Asphalt       1.0   \n",
       "4          32         0.0            3.0  Shingle/Asphalt       2.0   \n",
       "6          37         0.0            1.0  Shingle/Asphalt       1.0   \n",
       "7          25         0.0            1.0  Shingle/Asphalt       3.0   \n",
       "8          71         0.0            2.0     Tar & Gravel       1.0   \n",
       "9          29         0.0            1.0  Shingle/Asphalt       4.0   \n",
       "10         72         0.0            1.0  Shingle/Asphalt       2.0   \n",
       "11         31         0.0            2.0  Shingle/Asphalt       1.0   \n",
       "\n",
       "    Basement Finish  ...  Log Sale Price  Log Building Square Feet  Bedrooms  \\\n",
       "1               1.0  ...       12.560244                  6.904751         3   \n",
       "2               3.0  ...        9.998798                  6.810142         3   \n",
       "3               3.0  ...       12.323856                  7.068172         3   \n",
       "4               3.0  ...       10.025705                  6.855409         2   \n",
       "6               3.0  ...       11.512925                  7.458186         4   \n",
       "7               3.0  ...       13.586097                  8.272315         4   \n",
       "8               3.0  ...       13.422468                  7.636270         4   \n",
       "9               3.0  ...       12.506177                  7.343426         3   \n",
       "10              3.0  ...       11.695247                  6.841615         2   \n",
       "11              1.0  ...       11.184421                  6.911747         3   \n",
       "\n",
       "    in_expensive_neighborhood  Roof Material_Other  Roof Material_Shake  \\\n",
       "1                           0                  0.0                  0.0   \n",
       "2                           0                  0.0                  0.0   \n",
       "3                           0                  0.0                  0.0   \n",
       "4                           0                  0.0                  0.0   \n",
       "6                           0                  0.0                  0.0   \n",
       "7                           0                  0.0                  0.0   \n",
       "8                           0                  0.0                  0.0   \n",
       "9                           0                  0.0                  0.0   \n",
       "10                          0                  0.0                  0.0   \n",
       "11                          0                  0.0                  0.0   \n",
       "\n",
       "    Roof Material_Shingle/Asphalt  Roof Material_Slate  \\\n",
       "1                             1.0                  0.0   \n",
       "2                             1.0                  0.0   \n",
       "3                             1.0                  0.0   \n",
       "4                             1.0                  0.0   \n",
       "6                             1.0                  0.0   \n",
       "7                             1.0                  0.0   \n",
       "8                             0.0                  0.0   \n",
       "9                             1.0                  0.0   \n",
       "10                            1.0                  0.0   \n",
       "11                            1.0                  0.0   \n",
       "\n",
       "    Roof Material_Tar & Gravel  Roof Material_Tile  \n",
       "1                          0.0                 0.0  \n",
       "2                          0.0                 0.0  \n",
       "3                          0.0                 0.0  \n",
       "4                          0.0                 0.0  \n",
       "6                          0.0                 0.0  \n",
       "7                          0.0                 0.0  \n",
       "8                          1.0                 0.0  \n",
       "9                          0.0                 0.0  \n",
       "10                         0.0                 0.0  \n",
       "11                         0.0                 0.0  \n",
       "\n",
       "[10 rows x 72 columns]"
      ]
     },
     "execution_count": 132,
     "metadata": {},
     "output_type": "execute_result"
    }
   ],
   "source": [
    "from sklearn.preprocessing import OneHotEncoder\n",
    "\n",
    "def ohe_roof_material(data):\n",
    "    \"\"\"\n",
    "    One-hot-encodes roof material. New columns are of the form \"Roof Material_MATERIAL\".\n",
    "    \"\"\"\n",
    "    ohe = OneHotEncoder()\n",
    "    ohe.fit(data[['Roof Material']])\n",
    "    \n",
    "    new_data = ohe.transform(data[['Roof Material']]).toarray()\n",
    "    new_df = pd.DataFrame(data= new_data, columns= ohe.get_feature_names_out(), index= data.index)\n",
    "    \n",
    "    return data.join(new_df)\n",
    "\n",
    "training_data_ohe = ohe_roof_material(training_data_mapped)\n",
    "# This line of code will display only the one-hot-encoded columns in training_data_ohe that \n",
    "# have names that begin with “Roof Material_\" \n",
    "training_data_ohe.filter(regex='^Roof Material_').head(10)\n",
    "training_data_ohe.head(10)"
   ]
  },
  {
   "cell_type": "markdown",
   "metadata": {},
   "source": [
    " "
   ]
  }
 ],
 "metadata": {
  "celltoolbar": "Create Assignment",
  "kernelspec": {
   "display_name": "Python 3 (ipykernel)",
   "language": "python",
   "name": "python3"
  },
  "language_info": {
   "codemirror_mode": {
    "name": "ipython",
    "version": 3
   },
   "file_extension": ".py",
   "mimetype": "text/x-python",
   "name": "python",
   "nbconvert_exporter": "python",
   "pygments_lexer": "ipython3",
   "version": "3.11.10"
  },
  "otter": {
   "OK_FORMAT": true,
   "require_no_pdf_confirmation": true,
   "tests": {
    "q2a": {
     "name": "q2a",
     "points": 1,
     "suites": [
      {
       "cases": [
        {
         "code": ">>> isinstance(q2a, list) and len(q2a) == 3 and isinstance(q2a[0], int)\nTrue",
         "hidden": false,
         "locked": false
        }
       ],
       "scored": true,
       "setup": "",
       "teardown": "",
       "type": "doctest"
      }
     ]
    },
    "q2b": {
     "name": "q2b",
     "points": 1,
     "suites": [
      {
       "cases": [
        {
         "code": ">>> 'Sale Price' in training_data.columns\nTrue",
         "hidden": false,
         "locked": false
        },
        {
         "code": ">>> 'Log Sale Price' in training_data.columns\nTrue",
         "hidden": false,
         "locked": false
        },
        {
         "code": ">>> bool(training_data.shape == (168931, 63))\nTrue",
         "hidden": false,
         "locked": false
        },
        {
         "code": ">>> bool(np.isclose(training_data['Log Sale Price'].sum(), 2055590.7351105125, atol=1e-05))\nTrue",
         "hidden": false,
         "locked": false
        }
       ],
       "scored": true,
       "setup": "",
       "teardown": "",
       "type": "doctest"
      }
     ]
    },
    "q3a": {
     "name": "q3a",
     "points": 1,
     "suites": [
      {
       "cases": [
        {
         "code": ">>> q3statement in [True, False]\nTrue",
         "hidden": false,
         "locked": false
        }
       ],
       "scored": true,
       "setup": "",
       "teardown": "",
       "type": "doctest"
      }
     ]
    },
    "q3b": {
     "name": "q3b",
     "points": 1,
     "suites": [
      {
       "cases": [
        {
         "code": ">>> 'Building Square Feet' in training_data.columns\nTrue",
         "hidden": false,
         "locked": false
        },
        {
         "code": ">>> bool(np.isclose(training_data['Building Square Feet'].mean(), 1626.422290757765))\nTrue",
         "hidden": false,
         "locked": false
        },
        {
         "code": ">>> bool('Log Building Square Feet' in training_data.columns)\nTrue",
         "hidden": false,
         "locked": false
        },
        {
         "code": ">>> bool(np.isclose(training_data['Log Building Square Feet'].mean(), 7.2914293261161))\nTrue",
         "hidden": false,
         "locked": false
        }
       ],
       "scored": true,
       "setup": "",
       "teardown": "",
       "type": "doctest"
      }
     ]
    },
    "q4": {
     "name": "q4",
     "points": 2,
     "suites": [
      {
       "cases": [
        {
         "code": ">>> bool(remove_outliers(training_data, 'Building Square Feet', upper=2000).shape != training_data.shape)\nTrue",
         "hidden": false,
         "locked": false
        }
       ],
       "scored": true,
       "setup": "",
       "teardown": "",
       "type": "doctest"
      }
     ]
    },
    "q5a": {
     "name": "q5a",
     "points": 1,
     "suites": [
      {
       "cases": [
        {
         "code": ">>> bool(np.all([num in np.arange(1, 9) for num in q5a]))\nTrue",
         "hidden": false,
         "locked": false
        },
        {
         "code": ">>> isinstance(q5a, list) == True\nTrue",
         "hidden": false,
         "locked": false
        },
        {
         "code": ">>> isinstance(q5a[0], int) == True\nTrue",
         "hidden": false,
         "locked": false
        }
       ],
       "scored": true,
       "setup": "",
       "teardown": "",
       "type": "doctest"
      }
     ]
    },
    "q5b": {
     "name": "q5b",
     "points": 2,
     "suites": [
      {
       "cases": [
        {
         "code": ">>> bool(not training_data['Bedrooms'].isnull().any())\nTrue",
         "hidden": false,
         "locked": false
        },
        {
         "code": ">>> bool(pd.api.types.is_integer_dtype(training_data['Bedrooms']))\nTrue",
         "hidden": false,
         "locked": false
        }
       ],
       "scored": true,
       "setup": "",
       "teardown": "",
       "type": "doctest"
      }
     ]
    },
    "q6a": {
     "name": "q6a",
     "points": 1,
     "suites": [
      {
       "cases": [
        {
         "code": ">>> bool(isinstance(num_neighborhoods, int))\nTrue",
         "hidden": false,
         "locked": false
        }
       ],
       "scored": true,
       "setup": "",
       "teardown": "",
       "type": "doctest"
      }
     ]
    },
    "q6b": {
     "name": "q6b",
     "points": 2,
     "suites": [
      {
       "cases": [
        {
         "code": ">>> bool(len(in_top_20_neighborhoods['Neighborhood Code'].unique()) == 20)\nTrue",
         "hidden": false,
         "locked": false
        },
        {
         "code": ">>> bool(in_top_20_neighborhoods['Neighborhood Code'].iloc[0] == 120)\nTrue",
         "hidden": false,
         "locked": false
        }
       ],
       "scored": true,
       "setup": "",
       "teardown": "",
       "type": "doctest"
      }
     ]
    },
    "q6c": {
     "name": "q6c",
     "points": 2,
     "suites": [
      {
       "cases": [
        {
         "code": ">>> bool(len(find_expensive_neighborhoods(training_data, 5, np.median)) == 5)\nTrue",
         "hidden": false,
         "locked": false
        },
        {
         "code": ">>> bool(isinstance(expensive_neighborhoods, list))\nTrue",
         "hidden": false,
         "locked": false
        },
        {
         "code": ">>> bool(set(find_expensive_neighborhoods(training_data, 2, np.min)) == set([106, 580]))\nTrue",
         "hidden": false,
         "locked": false
        }
       ],
       "scored": true,
       "setup": "",
       "teardown": "",
       "type": "doctest"
      }
     ]
    },
    "q6d": {
     "name": "q6d",
     "points": 1,
     "suites": [
      {
       "cases": [
        {
         "code": ">>> bool(sum(training_data.loc[:, 'in_expensive_neighborhood']) == 1290 and sum(training_data.loc[:, 'in_expensive_neighborhood'].isnull()) == 0)\nTrue",
         "hidden": false,
         "locked": false
        }
       ],
       "scored": true,
       "setup": "",
       "teardown": "",
       "type": "doctest"
      }
     ]
    },
    "q7a": {
     "name": "q7a",
     "points": 1,
     "suites": [
      {
       "cases": [
        {
         "code": ">>> bool(set(training_data_mapped['Roof Material'].unique()) == set(['Shingle/Asphalt', 'Tar & Gravel', 'Other', 'Tile', 'Shake', 'Slate']))\nTrue",
         "hidden": false,
         "locked": false
        },
        {
         "code": ">>> bool(training_data.shape == training_data_mapped.shape)\nTrue",
         "hidden": false,
         "locked": false
        },
        {
         "code": ">>> bool(training_data['Roof Material'].dtype == np.float64)\nTrue",
         "hidden": false,
         "locked": false
        }
       ],
       "scored": true,
       "setup": "",
       "teardown": "",
       "type": "doctest"
      }
     ]
    },
    "q7b": {
     "name": "q7b",
     "points": 2,
     "suites": [
      {
       "cases": [
        {
         "code": ">>> bool(training_data_ohe.shape[1] - training_data.shape[1] == 6)\nTrue",
         "hidden": false,
         "locked": false
        },
        {
         "code": ">>> expected_ohe_cols = set(['Roof Material_Other', 'Roof Material_Shake', 'Roof Material_Shingle/Asphalt', 'Roof Material_Slate', 'Roof Material_Tar & Gravel', 'Roof Material_Tile'])\n>>> bool(expected_ohe_cols.issubset(set(training_data_ohe.columns)) == True)\nTrue",
         "hidden": false,
         "locked": false
        }
       ],
       "scored": true,
       "setup": "",
       "teardown": "",
       "type": "doctest"
      }
     ]
    }
   }
  }
 },
 "nbformat": 4,
 "nbformat_minor": 4
}
